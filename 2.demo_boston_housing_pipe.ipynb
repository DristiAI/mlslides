{
 "cells": [
  {
   "cell_type": "code",
   "execution_count": null,
   "metadata": {},
   "outputs": [],
   "source": [
    "# Last amended: 24th September, 2021\n",
    "# My folder: lubuntu_spark: /home/ashok/Documents/spark/2.ml/1.demo\n",
    "# Data Source: http://insideairbnb.com/get-the-data.html\n",
    "# Ref:\n",
    "# https://www.linkedin.com/pulse/building-scalable-machine-learning-pipelines-apache-spark-rajat-gupta\n",
    "# Pipelines:\n",
    "# https://spark.apache.org/docs/latest/ml-pipeline.html"
   ]
  },
  {
   "cell_type": "markdown",
   "metadata": {},
   "source": [
    "# Using simple Pipeline"
   ]
  },
  {
   "cell_type": "markdown",
   "metadata": {},
   "source": [
    "## A. Call libraries"
   ]
  },
  {
   "cell_type": "code",
   "execution_count": 4,
   "metadata": {},
   "outputs": [],
   "source": [
    "# 1.0 \n",
    "import numpy as np\n",
    "import pandas as pd"
   ]
  },
  {
   "cell_type": "code",
   "execution_count": 5,
   "metadata": {},
   "outputs": [],
   "source": [
    "# 1.1 \n",
    "from pyspark.ml.feature import VectorAssembler\n",
    "from pyspark.ml.regression import RandomForestRegressor\n",
    "from pyspark.ml.evaluation import RegressionEvaluator"
   ]
  },
  {
   "cell_type": "code",
   "execution_count": 6,
   "metadata": {},
   "outputs": [],
   "source": [
    "# 1.2 \n",
    "from pyspark.ml.pipeline import Pipeline"
   ]
  },
  {
   "cell_type": "code",
   "execution_count": 7,
   "metadata": {},
   "outputs": [
    {
     "name": "stdout",
     "output_type": "stream",
     "text": [
      "Deleted /user/ashok/data_files/boston\n",
      "2021-09-24 16:23:19,232 INFO sasl.SaslDataTransferClient: SASL encryption trust check: localHostTrusted = false, remoteHostTrusted = false\n",
      "Found 1 items\n",
      "-rw-r--r--   1 ashok supergroup      11832 2021-09-24 16:23 /user/ashok/data_files/boston/boston_housing.csv.gz\n"
     ]
    }
   ],
   "source": [
    "# 1.3 Transfer files to hadoop:\n",
    "\n",
    "\n",
    "\n",
    "! hdfs dfs -rm -r -f /user/ashok/data_files/boston\n",
    "! hdfs dfs -mkdir -p /user/ashok/data_files/boston\n",
    "! hdfs dfs -put /cdata/misc_datasets/boston_housing/boston_housing.csv.gz  /user/ashok/data_files/boston\n",
    "! hdfs dfs -ls /user/ashok/data_files/boston\n",
    "\n"
   ]
  },
  {
   "cell_type": "code",
   "execution_count": 8,
   "metadata": {},
   "outputs": [],
   "source": [
    "# 1.4 Display multiple command outputs from a cell  \n",
    "\n",
    "from IPython.core.interactiveshell import InteractiveShell\n",
    "InteractiveShell.ast_node_interactivity = \"all\""
   ]
  },
  {
   "cell_type": "markdown",
   "metadata": {},
   "source": [
    "## B. Read data"
   ]
  },
  {
   "cell_type": "code",
   "execution_count": 9,
   "metadata": {},
   "outputs": [],
   "source": [
    "# 2.0 Read Data\n",
    "#     We are only specifying the folder. Not the filename.\n",
    "\n",
    "df = spark.read.csv(\n",
    "                    path = \"hdfs://localhost:9000/user/ashok/data_files/boston\",\n",
    "                    inferSchema = True,\n",
    "                    header = True\n",
    "                   )\n"
   ]
  },
  {
   "cell_type": "code",
   "execution_count": 10,
   "metadata": {},
   "outputs": [
    {
     "data": {
      "text/plain": [
       "['crimerate',\n",
       " 'zone',\n",
       " 'non_retailbusiness',\n",
       " 'river',\n",
       " 'pollution',\n",
       " 'avgrooms',\n",
       " 'age',\n",
       " 'wt_distances',\n",
       " 'highwayaccess',\n",
       " 'taxrate',\n",
       " 'pupil_teacherratio',\n",
       " 'caste_composition',\n",
       " 'lowerstatus_pop',\n",
       " 'median_value']"
      ]
     },
     "execution_count": 10,
     "metadata": {},
     "output_type": "execute_result"
    },
    {
     "data": {
      "text/plain": [
       "506"
      ]
     },
     "execution_count": 10,
     "metadata": {},
     "output_type": "execute_result"
    }
   ],
   "source": [
    "# 2.1 A bit about data:\n",
    "\n",
    "df.columns\n",
    "df.count()"
   ]
  },
  {
   "cell_type": "code",
   "execution_count": 11,
   "metadata": {},
   "outputs": [
    {
     "name": "stdout",
     "output_type": "stream",
     "text": [
      "+---------+----+------------------+-----+---------+--------+----+------------+-------------+-------+\n",
      "|crimerate|zone|non_retailbusiness|river|pollution|avgrooms| age|wt_distances|highwayaccess|taxrate|\n",
      "+---------+----+------------------+-----+---------+--------+----+------------+-------------+-------+\n",
      "|  0.00632|18.0|              2.31|    0|    0.538|   6.575|65.2|        4.09|            1|    296|\n",
      "|  0.02731| 0.0|              7.07|    0|    0.469|   6.421|78.9|      4.9671|            2|    242|\n",
      "|  0.02729| 0.0|              7.07|    0|    0.469|   7.185|61.1|      4.9671|            2|    242|\n",
      "+---------+----+------------------+-----+---------+--------+----+------------+-------------+-------+\n",
      "only showing top 3 rows\n",
      "\n",
      "+------------------+-----------------+---------------+------------+\n",
      "|pupil_teacherratio|caste_composition|lowerstatus_pop|median_value|\n",
      "+------------------+-----------------+---------------+------------+\n",
      "|              15.3|            396.9|           4.98|        24.0|\n",
      "|              17.8|            396.9|           9.14|        21.6|\n",
      "|              17.8|           392.83|           4.03|        34.7|\n",
      "+------------------+-----------------+---------------+------------+\n",
      "only showing top 3 rows\n",
      "\n"
     ]
    }
   ],
   "source": [
    "# 2.2 \n",
    "\n",
    "df.select(df.columns[:10]).show(3)\n",
    "df.select(df.columns[10:]).show(3)"
   ]
  },
  {
   "cell_type": "markdown",
   "metadata": {},
   "source": [
    "## C. Machine Learning"
   ]
  },
  {
   "cell_type": "markdown",
   "metadata": {},
   "source": [
    "### Rename target\n",
    "In ml algorthms, default name for target column is 'label'"
   ]
  },
  {
   "cell_type": "code",
   "execution_count": 12,
   "metadata": {},
   "outputs": [],
   "source": [
    "# 2.3\n",
    "\n",
    "df = df.withColumnRenamed('median_value', 'label')\n"
   ]
  },
  {
   "cell_type": "markdown",
   "metadata": {},
   "source": [
    "### Partition"
   ]
  },
  {
   "cell_type": "code",
   "execution_count": 66,
   "metadata": {},
   "outputs": [],
   "source": [
    "# 3.0\n",
    "# 80:20 split\n",
    "\n",
    "train, test = df.randomSplit([0.8,0.2])"
   ]
  },
  {
   "cell_type": "code",
   "execution_count": 67,
   "metadata": {},
   "outputs": [
    {
     "data": {
      "text/plain": [
       "409"
      ]
     },
     "execution_count": 67,
     "metadata": {},
     "output_type": "execute_result"
    },
    {
     "data": {
      "text/plain": [
       "97"
      ]
     },
     "execution_count": 67,
     "metadata": {},
     "output_type": "execute_result"
    }
   ],
   "source": [
    "# 3.1\n",
    "\n",
    "train.count()\n",
    "test.count()"
   ]
  },
  {
   "cell_type": "markdown",
   "metadata": {},
   "source": [
    "## D. Create pipeline for modeling"
   ]
  },
  {
   "attachments": {
    "image%281%29.png": {
     "image/png": "[encoded data removed]"
    }
   },
   "cell_type": "markdown",
   "metadata": {},
   "source": [
    "![image%281%29.png](attachment:image%281%29.png)"
   ]
  },
  {
   "cell_type": "code",
   "execution_count": 68,
   "metadata": {},
   "outputs": [
    {
     "data": {
      "text/plain": [
       "['crimerate',\n",
       " 'zone',\n",
       " 'non_retailbusiness',\n",
       " 'river',\n",
       " 'pollution',\n",
       " 'avgrooms',\n",
       " 'age',\n",
       " 'wt_distances',\n",
       " 'highwayaccess',\n",
       " 'taxrate',\n",
       " 'pupil_teacherratio',\n",
       " 'caste_composition',\n",
       " 'lowerstatus_pop']"
      ]
     },
     "execution_count": 68,
     "metadata": {},
     "output_type": "execute_result"
    }
   ],
   "source": [
    "cols = train.columns[:-1]\n",
    "cols"
   ]
  },
  {
   "cell_type": "code",
   "execution_count": 69,
   "metadata": {},
   "outputs": [],
   "source": [
    "# 4.0\n",
    "pipe = Pipeline (\n",
    "                 stages = [\n",
    "                           VectorAssembler(\n",
    "                                           inputCols = cols,\n",
    "                                           outputCol = 'features'\n",
    "                                          ),\n",
    " \n",
    "                     \n",
    "                           RandomForestRegressor()\n",
    "                          ]\n",
    "                )"
   ]
  },
  {
   "cell_type": "markdown",
   "metadata": {},
   "source": [
    "## Train pipe\n",
    "And make predcitions"
   ]
  },
  {
   "cell_type": "code",
   "execution_count": 70,
   "metadata": {},
   "outputs": [],
   "source": [
    "# 4.1 Fit the pipe and create model:\n",
    "\n",
    "model = pipe.fit(train)"
   ]
  },
  {
   "cell_type": "code",
   "execution_count": 71,
   "metadata": {},
   "outputs": [],
   "source": [
    "# 4.2 MAke predictions:\n",
    "\n",
    "predicted = model.transform(test)"
   ]
  },
  {
   "cell_type": "code",
   "execution_count": 72,
   "metadata": {},
   "outputs": [
    {
     "data": {
      "text/plain": [
       "['crimerate',\n",
       " 'zone',\n",
       " 'non_retailbusiness',\n",
       " 'river',\n",
       " 'pollution',\n",
       " 'avgrooms',\n",
       " 'age',\n",
       " 'wt_distances',\n",
       " 'highwayaccess',\n",
       " 'taxrate',\n",
       " 'pupil_teacherratio',\n",
       " 'caste_composition',\n",
       " 'lowerstatus_pop',\n",
       " 'label',\n",
       " 'features',\n",
       " 'prediction']"
      ]
     },
     "execution_count": 72,
     "metadata": {},
     "output_type": "execute_result"
    }
   ],
   "source": [
    "# 4.3 Look at the columns\n",
    "\n",
    "predicted.columns\n"
   ]
  },
  {
   "cell_type": "code",
   "execution_count": 73,
   "metadata": {},
   "outputs": [
    {
     "name": "stdout",
     "output_type": "stream",
     "text": [
      "+---------+-----+------------------+-----+---------+--------+----+------------+-------------+-------+\n",
      "|crimerate| zone|non_retailbusiness|river|pollution|avgrooms| age|wt_distances|highwayaccess|taxrate|\n",
      "+---------+-----+------------------+-----+---------+--------+----+------------+-------------+-------+\n",
      "|  0.01432|100.0|              1.32|    0|    0.411|   6.816|40.5|      8.3248|            5|    256|\n",
      "|   0.0187| 85.0|              4.15|    0|    0.429|   6.516|27.7|      8.5353|            4|    351|\n",
      "|  0.02543| 55.0|              3.78|    0|    0.484|   6.696|56.4|      5.7321|            5|    370|\n",
      "+---------+-----+------------------+-----+---------+--------+----+------------+-------------+-------+\n",
      "only showing top 3 rows\n",
      "\n",
      "+------------------+-----------------+---------------+-----+--------------------+------------------+\n",
      "|pupil_teacherratio|caste_composition|lowerstatus_pop|label|            features|        prediction|\n",
      "+------------------+-----------------+---------------+-----+--------------------+------------------+\n",
      "|              15.1|            392.9|           3.95| 31.6|[0.01432,100.0,1....|31.426918738975655|\n",
      "|              17.9|           392.43|           6.36| 23.1|[0.0187,85.0,4.15...|24.904278748625273|\n",
      "|              17.6|            396.9|           7.18| 23.9|[0.02543,55.0,3.7...|25.754798064770522|\n",
      "+------------------+-----------------+---------------+-----+--------------------+------------------+\n",
      "only showing top 3 rows\n",
      "\n"
     ]
    }
   ],
   "source": [
    "# 4.4 Look at the data\n",
    "\n",
    "predicted.select(predicted.columns[:10]).show(3)\n",
    "predicted.select(predicted.columns[10:]).show(3)"
   ]
  },
  {
   "cell_type": "code",
   "execution_count": 74,
   "metadata": {},
   "outputs": [
    {
     "data": {
      "text/plain": [
       "3.59544167746105"
      ]
     },
     "execution_count": 74,
     "metadata": {},
     "output_type": "execute_result"
    }
   ],
   "source": [
    "# 5.0 Evaluate performance:\n",
    "\n",
    "evaluator = RegressionEvaluator(metricName = \"rmse\")\n",
    "evaluator.evaluate(predicted)"
   ]
  },
  {
   "cell_type": "markdown",
   "metadata": {},
   "source": [
    "## Pipeline with StandardScaler\n"
   ]
  },
  {
   "cell_type": "markdown",
   "metadata": {},
   "source": [
    "[StandardScaler](https://spark.apache.org/docs/latest/api/python/reference/api/pyspark.ml.feature.StandardScaler.html#pyspark.ml.feature.StandardScaler)<br>\n",
    "[PCA](https://spark.apache.org/docs/latest/api/python/reference/api/pyspark.ml.feature.PCA.html#pyspark.ml.feature.PCA)"
   ]
  },
  {
   "cell_type": "code",
   "execution_count": 75,
   "metadata": {},
   "outputs": [],
   "source": [
    "# Call libraries\n",
    "#from pyspark.ml.feature import PCA\n",
    "#from pyspark.ml.feature import StandardScaler"
   ]
  },
  {
   "cell_type": "code",
   "execution_count": 76,
   "metadata": {},
   "outputs": [],
   "source": [
    "# Create pipeline of all operations:\n",
    "\n",
    "pipe = Pipeline (\n",
    "                 stages = [\n",
    "                          \n",
    "                     \n",
    "                     \n",
    "                          ]\n",
    "                )"
   ]
  },
  {
   "cell_type": "code",
   "execution_count": 77,
   "metadata": {},
   "outputs": [],
   "source": [
    "# Fit train data and create model\n"
   ]
  },
  {
   "cell_type": "code",
   "execution_count": 78,
   "metadata": {},
   "outputs": [],
   "source": [
    "# 4.2 MAke predictions:\n",
    "\n"
   ]
  },
  {
   "cell_type": "code",
   "execution_count": 79,
   "metadata": {},
   "outputs": [
    {
     "data": {
      "text/plain": [
       "4.031717320847001"
      ]
     },
     "execution_count": 79,
     "metadata": {},
     "output_type": "execute_result"
    }
   ],
   "source": [
    "# 5.0 Evaluate performance:\n",
    "\n"
   ]
  },
  {
   "cell_type": "code",
   "execution_count": null,
   "metadata": {},
   "outputs": [],
   "source": [
    "############### I am done ###############"
   ]
  }
 ],
 "metadata": {
  "kernelspec": {
   "display_name": "Python 3",
   "language": "python",
   "name": "python3"
  },
  "language_info": {
   "codemirror_mode": {
    "name": "ipython",
    "version": 3
   },
   "file_extension": ".py",
   "mimetype": "text/x-python",
   "name": "python",
   "nbconvert_exporter": "python",
   "pygments_lexer": "ipython3",
   "version": "3.8.8"
  }
 },
 "nbformat": 4,
 "nbformat_minor": 2
}
