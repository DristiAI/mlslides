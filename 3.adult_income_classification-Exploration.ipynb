{
 "cells": [
  {
   "cell_type": "code",
   "execution_count": null,
   "metadata": {},
   "outputs": [],
   "source": [
    "## Last amended: 15th Sep, 2021\n",
    "## Myfolder: /home/ashok/Documents/spark/ml/adult\n",
    "## Datasource: Adult dataset from UCI\n",
    "##             https://archive.ics.uci.edu/ml/machine-learning-databases/adult/       => Data source\n",
    "\n",
    "## Problem: Data Exploration of census data\n",
    "#     Ref: https://docs.databricks.com/spark/latest/mllib/binary-classification-mllib-pipelines.html\n",
    "\n",
    "## Objectives:\n",
    "\n",
    "##\t\t1. Learn importing data files in spark\n",
    "##\t\t2. Learn data preprocessing on spark\n"
   ]
  },
  {
   "cell_type": "code",
   "execution_count": null,
   "metadata": {},
   "outputs": [],
   "source": [
    "\n",
    "##******=IMPT=**********\n",
    "## Before you do it\n",
    "## Attempt Quick-demo\n",
    "## in folder '1.demo'\n",
    "##**********************\n"
   ]
  },
  {
   "cell_type": "markdown",
   "metadata": {},
   "source": [
    "### Start hadoop"
   ]
  },
  {
   "cell_type": "code",
   "execution_count": null,
   "metadata": {},
   "outputs": [],
   "source": [
    "## A, Start hadoop\n",
    "\n",
    "    $ ./allstart.sh\n",
    "\n",
    "# OR\n",
    "\n",
    "    $./quick_allstart.sh"
   ]
  },
  {
   "cell_type": "markdown",
   "metadata": {},
   "source": [
    "#### Transfer files to hadoop"
   ]
  },
  {
   "cell_type": "code",
   "execution_count": null,
   "metadata": {},
   "outputs": [],
   "source": [
    "# B. Transfer requisite files to hdfs after making a new folder\n",
    "\n",
    "\"\"\"\n",
    "\n",
    "\n",
    "cd ~\n",
    "hdfs dfs -rm -r  /user/ashok/data_files/adult\n",
    "hdfs dfs -mkdir -p  /user/ashok/data_files/adult\n",
    "hdfs dfs -put /cdata/adult/adult.data  /user/ashok/data_files/adult/\n",
    "hdfs dfs -ls /user/ashok/data_files/adult\n",
    "hdfs dfs -cat /user/ashok/data_files/adult/adult.data | more\n",
    "\n",
    "\n",
    "\n",
    "\"\"\"\"\"\"\n",
    "\n"
   ]
  },
  {
   "cell_type": "code",
   "execution_count": null,
   "metadata": {},
   "outputs": [],
   "source": [
    "## C. And then open pyspark, as:\n",
    "#   $ pysparknb"
   ]
  },
  {
   "cell_type": "code",
   "execution_count": null,
   "metadata": {},
   "outputs": [],
   "source": [
    "# D. pyspark configuration UI is avaialble at following URL:\n",
    "\n",
    "\"\"\"\n",
    "\t http://localhost:4040\n",
    "            \n",
    "            \n",
    "\t Check for parameters (under 'Environment'  tab) such as:\n",
    "\t \tspark.master\n",
    "\t \tspark.driver.host\n",
    "\t \tspark.driver.memory\n",
    "\n",
    "\tIn local mode there is one jvm for both excutors and drivers\n",
    "    \n",
    "\"\"\"    "
   ]
  },
  {
   "cell_type": "markdown",
   "metadata": {},
   "source": [
    "## Call libraries"
   ]
  },
  {
   "cell_type": "code",
   "execution_count": 12,
   "metadata": {},
   "outputs": [],
   "source": [
    "## 1.0 Call libraries\n",
    "# Ref : \n",
    "# See Left Panel of this page for available Classes:\n",
    "#              http://spark.apache.org/docs/3.0.0/api/python/pyspark.ml.html#pyspark-ml-package\n",
    "#     Right Panel of this page:\n",
    "#             https://spark.apache.org/docs/latest/api/python/reference/pyspark.ml.html#vector-and-matrix\n",
    "\n",
    "# 1.0\n",
    "\n",
    "import numpy as np\n",
    "import pandas as pd\n",
    "import time\n",
    "\n",
    "# 1.1 pyspatk sql functions:\n",
    "\n",
    "from pyspark.sql.functions import col\n"
   ]
  },
  {
   "cell_type": "code",
   "execution_count": 2,
   "metadata": {},
   "outputs": [],
   "source": [
    "# 1.2 Display multiple command outputs from a cell:\n",
    "\n",
    "from IPython.core.interactiveshell import InteractiveShell\n",
    "InteractiveShell.ast_node_interactivity = \"all\""
   ]
  },
  {
   "cell_type": "code",
   "execution_count": 3,
   "metadata": {},
   "outputs": [
    {
     "data": {
      "text/html": [
       "<style>.container { width:100% !important; }</style>"
      ],
      "text/plain": [
       "<IPython.core.display.HTML object>"
      ]
     },
     "metadata": {},
     "output_type": "display_data"
    }
   ],
   "source": [
    "# 1.3 Increase display width of notebook:\n",
    "\n",
    "from IPython.core.display import display, HTML\n",
    "display(HTML(\"<style>.container { width:100% !important; }</style>\"))"
   ]
  },
  {
   "cell_type": "markdown",
   "metadata": {},
   "source": [
    "## Read data"
   ]
  },
  {
   "cell_type": "code",
   "execution_count": 5,
   "metadata": {},
   "outputs": [
    {
     "name": "stdout",
     "output_type": "stream",
     "text": [
      "+---+----------+------+----------+-------------+--------------+-------------+--------------+------+-----+------------+------------+--------------+--------------+------+\n",
      "|_c0|       _c1|   _c2|       _c3|          _c4|           _c5|          _c6|           _c7|   _c8|  _c9|        _c10|        _c11|          _c12|          _c13|  _c14|\n",
      "+---+----------+------+----------+-------------+--------------+-------------+--------------+------+-----+------------+------------+--------------+--------------+------+\n",
      "|age| workclass|fnlwgt| education|education_num|marital_status|   occupation|  relationship|  race|  sex|capital_gain|capital_loss|hours_per_week|native-country|income|\n",
      "| 39| State-gov| 77516| Bachelors|           13| Never-married| Adm-clerical| Not-in-family| White| Male|        2174|           0|            40| United-States| <=50K|\n",
      "+---+----------+------+----------+-------------+--------------+-------------+--------------+------+-----+------------+------------+--------------+--------------+------+\n",
      "only showing top 2 rows\n",
      "\n"
     ]
    }
   ],
   "source": [
    "## 2.0 Read data\n",
    "#  2.0 Read the 'adult' dataset from spark-sql store ('adultdata' database)\n",
    "#      And return the data as a spark DataFrame\n",
    "\n",
    "\n",
    "# Minimum:\n",
    "df = spark.read.csv(\n",
    "                      path = \"/user/ashok/data_files/adult/adult.data\",\n",
    "                      nullValue = \"?\"            # Null values in data have '?'\n",
    "                      )\n",
    "\n",
    "\n",
    "# 2.0.1\n",
    "df.show(2)\n"
   ]
  },
  {
   "cell_type": "code",
   "execution_count": 7,
   "metadata": {},
   "outputs": [
    {
     "name": "stdout",
     "output_type": "stream",
     "text": [
      "+---+----------+------+----------+-------------+--------------+-------------+--------------+------+-----+------------+------------+--------------+--------------+------+\n",
      "|_c0|       _c1|   _c2|       _c3|          _c4|           _c5|          _c6|           _c7|   _c8|  _c9|        _c10|        _c11|          _c12|          _c13|  _c14|\n",
      "+---+----------+------+----------+-------------+--------------+-------------+--------------+------+-----+------------+------------+--------------+--------------+------+\n",
      "|age| workclass|fnlwgt| education|education_num|marital_status|   occupation|  relationship|  race|  sex|capital_gain|capital_loss|hours_per_week|native-country|income|\n",
      "| 39| State-gov| 77516| Bachelors|           13| Never-married| Adm-clerical| Not-in-family| White| Male|        2174|           0|            40| United-States| <=50K|\n",
      "+---+----------+------+----------+-------------+--------------+-------------+--------------+------+-----+------------+------------+--------------+--------------+------+\n",
      "only showing top 2 rows\n",
      "\n"
     ]
    }
   ],
   "source": [
    "# 2.0.2 Slightly modify:\n",
    "df = spark.read.csv(\n",
    "                      path = \"/user/ashok/data_files/adult/adult.data\",\n",
    "                      inferSchema = True,\n",
    "                      nullValue = \"?\"            # Null values in data have '?'\n",
    "                      )\n",
    "\n",
    "\n",
    "# 2.0.3\n",
    "df.show(2)\n"
   ]
  },
  {
   "cell_type": "code",
   "execution_count": 9,
   "metadata": {},
   "outputs": [
    {
     "name": "stdout",
     "output_type": "stream",
     "text": [
      "+---+-----------------+-------+----------+-------------+-------------------+----------------+--------------+------+-----+------------+------------+--------------+--------------+------+\n",
      "|age|        workclass| fnlwgt| education|education_num|     marital_status|      occupation|  relationship|  race|  sex|capital_gain|capital_loss|hours_per_week|native-country|income|\n",
      "+---+-----------------+-------+----------+-------------+-------------------+----------------+--------------+------+-----+------------+------------+--------------+--------------+------+\n",
      "| 39|        State-gov|77516.0| Bachelors|         13.0|      Never-married|    Adm-clerical| Not-in-family| White| Male|      2174.0|         0.0|          40.0| United-States| <=50K|\n",
      "| 50| Self-emp-not-inc|83311.0| Bachelors|         13.0| Married-civ-spouse| Exec-managerial|       Husband| White| Male|         0.0|         0.0|          13.0| United-States| <=50K|\n",
      "+---+-----------------+-------+----------+-------------+-------------------+----------------+--------------+------+-----+------------+------------+--------------+--------------+------+\n",
      "only showing top 2 rows\n",
      "\n"
     ]
    }
   ],
   "source": [
    "# 2.0.4 Slight modify:\n",
    "df = spark.read.csv(\n",
    "                      path = \"/user/ashok/data_files/adult/adult.data\",\n",
    "                      inferSchema = True,\n",
    "                      header = True,\n",
    "                      nullValue = \"?\"            # Null values in data have '?'\n",
    "                      )\n",
    "\n",
    "\n",
    "# 2.0.5\n",
    "df.show(2)"
   ]
  },
  {
   "cell_type": "code",
   "execution_count": 13,
   "metadata": {},
   "outputs": [
    {
     "name": "stdout",
     "output_type": "stream",
     "text": [
      "+---+----------------+------+---------+-------------+------------------+---------------+-------------+-----+----+------------+------------+--------------+--------------+------+\n",
      "|age|       workclass|fnlwgt|education|education_num|    marital_status|     occupation| relationship| race| sex|capital_gain|capital_loss|hours_per_week|native-country|income|\n",
      "+---+----------------+------+---------+-------------+------------------+---------------+-------------+-----+----+------------+------------+--------------+--------------+------+\n",
      "| 39|       State-gov| 77516|Bachelors|           13|     Never-married|   Adm-clerical|Not-in-family|White|Male|        2174|           0|            40| United-States| <=50K|\n",
      "| 50|Self-emp-not-inc| 83311|Bachelors|           13|Married-civ-spouse|Exec-managerial|      Husband|White|Male|           0|           0|            13| United-States| <=50K|\n",
      "+---+----------------+------+---------+-------------+------------------+---------------+-------------+-----+----+------------+------------+--------------+--------------+------+\n",
      "only showing top 2 rows\n",
      "\n"
     ]
    }
   ],
   "source": [
    "# 2.0.6 More elaborate but desireable:\n",
    "\n",
    "df = spark.read.csv(\n",
    "                      path = \"/user/ashok/data_files/adult/adult.data\",\n",
    "                      inferSchema = True,               # default False\n",
    "                      header = True,                    # defalut False \n",
    "                      nullValue = \"?\",                 # Null values in data have '?'\n",
    "\n",
    "                      ignoreLeadingWhiteSpace = True,   # deafult False\n",
    "                      ignoreTrailingWhiteSpace= True,   # default False\n",
    "                      \n",
    "                      )\n",
    "\n",
    "# 2.0.7\n",
    "df.show(2)"
   ]
  },
  {
   "cell_type": "code",
   "execution_count": null,
   "metadata": {},
   "outputs": [],
   "source": [
    "## 2.0.8 Spark DataFrame manipulation\n",
    "#        Ref: https://spark.apache.org/docs/latest/api/python/pyspark.sql.html#pyspark.sql.DataFrame\n",
    "\n",
    "print(\"\\n-----Schema----\")\n",
    "\n",
    "\n",
    "\n",
    "print(\"\\n-----Data types----\")\n",
    "\n"
   ]
  },
  {
   "cell_type": "code",
   "execution_count": null,
   "metadata": {},
   "outputs": [],
   "source": [
    "# 2.1 take() is same as head()\n",
    "#     Both return a list or Row types.\n",
    "#     Try:\n",
    "\n",
    "\n"
   ]
  },
  {
   "cell_type": "code",
   "execution_count": null,
   "metadata": {},
   "outputs": [],
   "source": [
    "# 2.2 Target columns values:\n",
    "\n",
    "\n"
   ]
  },
  {
   "cell_type": "code",
   "execution_count": null,
   "metadata": {},
   "outputs": [],
   "source": [
    "# 2.3 How many rows are there?\n",
    "#     Output is a scalar and NOT DataFrame\n",
    "\n"
   ]
  },
  {
   "cell_type": "code",
   "execution_count": null,
   "metadata": {},
   "outputs": [],
   "source": [
    "# 3.1 Print value-counts of target:\n"
   ]
  },
  {
   "cell_type": "code",
   "execution_count": null,
   "metadata": {},
   "outputs": [],
   "source": [
    "# 3.1.1 Display % value-counts\n",
    "\n"
   ]
  },
  {
   "cell_type": "code",
   "execution_count": 22,
   "metadata": {},
   "outputs": [
    {
     "name": "stdout",
     "output_type": "stream",
     "text": [
      "+-------+------+\n",
      "|summary|income|\n",
      "+-------+------+\n",
      "|  count| 32561|\n",
      "|   mean|  null|\n",
      "| stddev|  null|\n",
      "|    min| <=50K|\n",
      "|    max|  >50K|\n",
      "+-------+------+\n",
      "\n"
     ]
    }
   ],
   "source": [
    "# 3.2 Descibe a summary of complete dataframe\n",
    "#     or of specific columns (say, 'income' column)\n",
    "\n",
    "\n"
   ]
  },
  {
   "cell_type": "code",
   "execution_count": null,
   "metadata": {},
   "outputs": [],
   "source": [
    "# 3.3 summary() gives more control over statistics \n",
    "#       than 'describe()'. Just display 10% point:\n",
    "\n"
   ]
  },
  {
   "cell_type": "markdown",
   "metadata": {},
   "source": [
    "### select() method"
   ]
  },
  {
   "cell_type": "code",
   "execution_count": null,
   "metadata": {},
   "outputs": [],
   "source": [
    "# 4.1 Show one column, say age\n",
    "\n",
    "\n",
    "\n",
    "# OR\n",
    "\n",
    "\n",
    "\n",
    "# OR\n",
    "\n",
    "\n",
    "\n",
    "# OR\n",
    "\n"
   ]
  },
  {
   "cell_type": "code",
   "execution_count": null,
   "metadata": {},
   "outputs": [],
   "source": [
    "# 4.2 Show multiple columns, say age and workclass\n",
    "\n",
    "\n",
    "\n",
    "# OR\n",
    "\n",
    "\n",
    "\n",
    "# OR\n",
    "\n",
    "\n",
    "\n",
    "# OR\n",
    "\n"
   ]
  },
  {
   "cell_type": "markdown",
   "metadata": {},
   "source": [
    "### filter() method"
   ]
  },
  {
   "cell_type": "code",
   "execution_count": null,
   "metadata": {},
   "outputs": [],
   "source": [
    "# 4.4 Filter DataFrame with filter command\n",
    "#     Many ways to filter\n",
    "#       'where' is an alias for filter\n",
    "#     Filter for age > 21, for age = 21\n",
    "\n",
    "\n",
    "\n",
    "# OR\n",
    "\n",
    "\n",
    "\n",
    "# OR\n",
    "\n",
    "\n",
    "\n",
    "# OR\n",
    "\n",
    "\n",
    "\n",
    "# OR\n",
    "\n",
    "\n",
    "\n",
    "# OR\n",
    "\n"
   ]
  },
  {
   "cell_type": "code",
   "execution_count": null,
   "metadata": {},
   "outputs": [],
   "source": [
    "# 4.5: Filter for marital_status of \"Never-married\" and age > 21\n",
    "\n",
    "\n"
   ]
  },
  {
   "cell_type": "markdown",
   "metadata": {},
   "source": [
    "### groupBy()"
   ]
  },
  {
   "cell_type": "code",
   "execution_count": null,
   "metadata": {},
   "outputs": [],
   "source": [
    "# 4.6 GroupBy age and find mean capital_gain\n",
    "\n"
   ]
  },
  {
   "cell_type": "code",
   "execution_count": null,
   "metadata": {},
   "outputs": [],
   "source": [
    "# 4.6.3 Group by age. Find mean capital_gain and maximum capital_loss\n"
   ]
  },
  {
   "cell_type": "markdown",
   "metadata": {},
   "source": [
    "### to_pandas()"
   ]
  },
  {
   "cell_type": "code",
   "execution_count": null,
   "metadata": {},
   "outputs": [],
   "source": [
    "# 6.0 Transforming filtered data to numpy array\n",
    "#     Maybe for plotting.\n",
    "#     Get data for age = 21 as numpy array:\n",
    "\n",
    "\n",
    "\n",
    "\n"
   ]
  },
  {
   "cell_type": "code",
   "execution_count": null,
   "metadata": {},
   "outputs": [],
   "source": [
    "# 6.1 Return a pandas dataframe\n",
    "\n"
   ]
  },
  {
   "cell_type": "markdown",
   "metadata": {},
   "source": [
    "======================================================================"
   ]
  },
  {
   "cell_type": "code",
   "execution_count": 5,
   "metadata": {},
   "outputs": [
    {
     "name": "stdout",
     "output_type": "stream",
     "text": [
      "\n",
      "-----Schema----\n",
      "root\n",
      " |-- age: integer (nullable = true)\n",
      " |-- workclass: string (nullable = true)\n",
      " |-- fnlwgt: integer (nullable = true)\n",
      " |-- education: string (nullable = true)\n",
      " |-- education_num: integer (nullable = true)\n",
      " |-- marital_status: string (nullable = true)\n",
      " |-- occupation: string (nullable = true)\n",
      " |-- relationship: string (nullable = true)\n",
      " |-- race: string (nullable = true)\n",
      " |-- sex: string (nullable = true)\n",
      " |-- capital_gain: integer (nullable = true)\n",
      " |-- capital_loss: integer (nullable = true)\n",
      " |-- hours_per_week: integer (nullable = true)\n",
      " |-- native-country: string (nullable = true)\n",
      " |-- income: string (nullable = true)\n",
      "\n",
      "\n",
      "-----Data types----\n",
      "[('age', 'int'), ('workclass', 'string'), ('fnlwgt', 'int'), ('education', 'string'), ('education_num', 'int'), ('marital_status', 'string'), ('occupation', 'string'), ('relationship', 'string'), ('race', 'string'), ('sex', 'string'), ('capital_gain', 'int'), ('capital_loss', 'int'), ('hours_per_week', 'int'), ('native-country', 'string'), ('income', 'string')]\n"
     ]
    }
   ],
   "source": [
    "## 2.0.8 Spark DataFrame manipulation\n",
    "#        Ref: https://spark.apache.org/docs/latest/api/python/pyspark.sql.html#pyspark.sql.DataFrame\n",
    "\n",
    "print(\"\\n-----Schema----\")\n",
    "df.printSchema()\n",
    "print(\"\\n-----Data types----\")\n",
    "print(df.dtypes)"
   ]
  },
  {
   "cell_type": "code",
   "execution_count": null,
   "metadata": {},
   "outputs": [],
   "source": [
    "# 2.1 take() is same as head()\n",
    "#     Both return a list or Row types\n",
    "\n",
    "df.head(3)\n",
    "df.take(3)"
   ]
  },
  {
   "cell_type": "code",
   "execution_count": 6,
   "metadata": {},
   "outputs": [
    {
     "name": "stdout",
     "output_type": "stream",
     "text": [
      "+------+\n",
      "|income|\n",
      "+------+\n",
      "| <=50K|\n",
      "| <=50K|\n",
      "| <=50K|\n",
      "| <=50K|\n",
      "+------+\n",
      "only showing top 4 rows\n",
      "\n"
     ]
    }
   ],
   "source": [
    "# 2.2 Target columns values:\n",
    "\n",
    "df.select('income').show(4)"
   ]
  },
  {
   "cell_type": "code",
   "execution_count": 7,
   "metadata": {},
   "outputs": [
    {
     "data": {
      "text/plain": [
       "32561"
      ]
     },
     "execution_count": 7,
     "metadata": {},
     "output_type": "execute_result"
    }
   ],
   "source": [
    "# 2.3 How many rows are there?\n",
    "#     Output is a scalar and NOT DataFrame\n",
    "\n",
    "df.count()      # 32561"
   ]
  },
  {
   "cell_type": "code",
   "execution_count": 16,
   "metadata": {},
   "outputs": [
    {
     "name": "stdout",
     "output_type": "stream",
     "text": [
      "+------+-----+\n",
      "|income|count|\n",
      "+------+-----+\n",
      "| <=50K|24720|\n",
      "|  >50K| 7841|\n",
      "+------+-----+\n",
      "\n"
     ]
    }
   ],
   "source": [
    "# 3.1 Value counts of target\n",
    "\n",
    "dx = df.groupby('income').count()\n",
    "dx.show()\n",
    "\n"
   ]
  },
  {
   "cell_type": "code",
   "execution_count": 17,
   "metadata": {},
   "outputs": [
    {
     "name": "stdout",
     "output_type": "stream",
     "text": [
      "+------+------------------+\n",
      "|income|   (count / 32561)|\n",
      "+------+------------------+\n",
      "| <=50K|0.7591904425539756|\n",
      "|  >50K|0.2408095574460244|\n",
      "+------+------------------+\n",
      "\n"
     ]
    }
   ],
   "source": [
    "# 3.1.1 Display % value-counts\n",
    "\n",
    "dx = dx.select(\"income\", col(\"count\")/df.count()).show()"
   ]
  },
  {
   "cell_type": "code",
   "execution_count": 10,
   "metadata": {},
   "outputs": [
    {
     "name": "stdout",
     "output_type": "stream",
     "text": [
      "+-------+------------------+-----------+------------------+------------+-----------------+--------------+----------------+------------+------------------+------+------------------+----------------+------------------+--------------+------+\n",
      "|summary|               age|  workclass|            fnlwgt|   education|    education_num|marital_status|      occupation|relationship|              race|   sex|      capital_gain|    capital_loss|    hours_per_week|native-country|income|\n",
      "+-------+------------------+-----------+------------------+------------+-----------------+--------------+----------------+------------+------------------+------+------------------+----------------+------------------+--------------+------+\n",
      "|  count|             32561|      30725|             32561|       32561|            32561|         32561|           30718|       32561|             32561| 32561|             32561|           32561|             32561|         31978| 32561|\n",
      "|   mean| 38.58164675532078|       null|189778.36651208502|        null| 10.0806793403151|          null|            null|        null|              null|  null|1077.6488437087312| 87.303829734959|40.437455852092995|          null|  null|\n",
      "| stddev|13.640432553581356|       null|105549.97769702227|        null|2.572720332067397|          null|            null|        null|              null|  null| 7385.292084840354|402.960218649002|12.347428681731838|          null|  null|\n",
      "|    min|                17|Federal-gov|             12285|        10th|                1|      Divorced|    Adm-clerical|     Husband|Amer-Indian-Eskimo|Female|                 0|               0|                 1|      Cambodia| <=50K|\n",
      "|    max|                90|Without-pay|           1484705|Some-college|               16|       Widowed|Transport-moving|        Wife|             White|  Male|             99999|            4356|                99|    Yugoslavia|  >50K|\n",
      "+-------+------------------+-----------+------------------+------------+-----------------+--------------+----------------+------------+------------------+------+------------------+----------------+------------------+--------------+------+\n",
      "\n",
      "\n",
      "+-------+------------------+-----------+\n",
      "|summary|               age|  workclass|\n",
      "+-------+------------------+-----------+\n",
      "|  count|             32561|      30725|\n",
      "|   mean| 38.58164675532078|       null|\n",
      "| stddev|13.640432553581356|       null|\n",
      "|    min|                17|Federal-gov|\n",
      "|    max|                90|Without-pay|\n",
      "+-------+------------------+-----------+\n",
      "\n"
     ]
    }
   ],
   "source": [
    "# 3.2 Descibe a summary of dataframe\n",
    "#     or specific columns\n",
    "#     Similar to pandas method\n",
    "\n",
    "df.describe().show()    # This is a mess\n",
    "print()\n",
    "df.describe(['age', 'workclass']).show()   # This is better"
   ]
  },
  {
   "cell_type": "code",
   "execution_count": 11,
   "metadata": {},
   "outputs": [
    {
     "name": "stdout",
     "output_type": "stream",
     "text": [
      "+-------+---+\n",
      "|summary|age|\n",
      "+-------+---+\n",
      "|    10%| 22|\n",
      "+-------+---+\n",
      "\n"
     ]
    }
   ],
   "source": [
    "# 3.3   summary() gives more control over statistics \n",
    "#       than 'describe()'. Just display 10% point:\n",
    "\n",
    "\n",
    "df.select(\"age\").summary(\"10%\").show()"
   ]
  },
  {
   "cell_type": "markdown",
   "metadata": {},
   "source": [
    "### select()"
   ]
  },
  {
   "cell_type": "code",
   "execution_count": 12,
   "metadata": {},
   "outputs": [],
   "source": [
    "# 4.0 import col function:\n",
    "\n",
    "from pyspark.sql.functions import col"
   ]
  },
  {
   "cell_type": "code",
   "execution_count": 12,
   "metadata": {},
   "outputs": [
    {
     "name": "stdout",
     "output_type": "stream",
     "text": [
      "+---+\n",
      "|age|\n",
      "+---+\n",
      "| 39|\n",
      "| 50|\n",
      "+---+\n",
      "only showing top 2 rows\n",
      "\n",
      "+---+\n",
      "|age|\n",
      "+---+\n",
      "| 39|\n",
      "| 50|\n",
      "+---+\n",
      "only showing top 2 rows\n",
      "\n",
      "+---+\n",
      "|age|\n",
      "+---+\n",
      "| 39|\n",
      "| 50|\n",
      "+---+\n",
      "only showing top 2 rows\n",
      "\n",
      "+---+\n",
      "|age|\n",
      "+---+\n",
      "| 39|\n",
      "| 50|\n",
      "+---+\n",
      "only showing top 2 rows\n",
      "\n"
     ]
    }
   ],
   "source": [
    "# 4.1 Show one column\n",
    "\n",
    "df.select(\"age\").show(2)     # Not as: df[\"age\"]\n",
    "\n",
    "# OR\n",
    "\n",
    "df.select(df[\"age\"]).show(2)\n",
    "\n",
    "# OR\n",
    "\n",
    "df.select(col(\"age\")).show(2)\n",
    "\n",
    "# OR\n",
    "\n",
    "df.select(df.age).show(2)\n"
   ]
  },
  {
   "cell_type": "code",
   "execution_count": 13,
   "metadata": {},
   "outputs": [
    {
     "name": "stdout",
     "output_type": "stream",
     "text": [
      "+---+----------------+\n",
      "|age|       workclass|\n",
      "+---+----------------+\n",
      "| 39|       State-gov|\n",
      "| 50|Self-emp-not-inc|\n",
      "+---+----------------+\n",
      "only showing top 2 rows\n",
      "\n",
      "+---+----------------+\n",
      "|age|       workclass|\n",
      "+---+----------------+\n",
      "| 39|       State-gov|\n",
      "| 50|Self-emp-not-inc|\n",
      "+---+----------------+\n",
      "only showing top 2 rows\n",
      "\n",
      "+---+----------------+\n",
      "|age|       workclass|\n",
      "+---+----------------+\n",
      "| 39|       State-gov|\n",
      "| 50|Self-emp-not-inc|\n",
      "+---+----------------+\n",
      "only showing top 2 rows\n",
      "\n",
      "+---+----------------+\n",
      "|age|       workclass|\n",
      "+---+----------------+\n",
      "| 39|       State-gov|\n",
      "| 50|Self-emp-not-inc|\n",
      "+---+----------------+\n",
      "only showing top 2 rows\n",
      "\n"
     ]
    }
   ],
   "source": [
    "# 4.2 Show multiple columns\n",
    "\n",
    "df.select(\"age\", \"workclass\").show(2)\n",
    "\n",
    "# OR\n",
    "\n",
    "df.select(*[\"age\", \"workclass\"]).show(2)   # Note the '*'\n",
    "\n",
    "# OR\n",
    "\n",
    "df.select([\"age\", \"workclass\"]).show(2)\n",
    "\n",
    "# OR\n",
    "\n",
    "df.select(df[\"age\"], df[\"workclass\"]).show(2)\n"
   ]
  },
  {
   "cell_type": "code",
   "execution_count": 15,
   "metadata": {},
   "outputs": [],
   "source": [
    "# 4.3 But these do not work:\n",
    "# df.select(df[,[\"age\",\"workclass\"]]).show()\n",
    "# df.select(df[[\"age\",\"workclass\"]]).show()"
   ]
  },
  {
   "cell_type": "markdown",
   "metadata": {},
   "source": [
    "### filter()"
   ]
  },
  {
   "cell_type": "code",
   "execution_count": 14,
   "metadata": {},
   "outputs": [
    {
     "data": {
      "text/plain": [
       "[Row(age=39, workclass='State-gov', fnlwgt=77516, education='Bachelors', education_num=13, marital_status='Never-married', occupation='Adm-clerical', relationship='Not-in-family', race='White', sex='Male', capital_gain=2174, capital_loss=0, hours_per_week=40, native-country='United-States', income='<=50K')]"
      ]
     },
     "execution_count": 14,
     "metadata": {},
     "output_type": "execute_result"
    },
    {
     "data": {
      "text/plain": [
       "[Row(age=39, workclass='State-gov', fnlwgt=77516, education='Bachelors', education_num=13, marital_status='Never-married', occupation='Adm-clerical', relationship='Not-in-family', race='White', sex='Male', capital_gain=2174, capital_loss=0, hours_per_week=40, native-country='United-States', income='<=50K')]"
      ]
     },
     "execution_count": 14,
     "metadata": {},
     "output_type": "execute_result"
    },
    {
     "data": {
      "text/plain": [
       "[Row(age=21, workclass='Private', fnlwgt=197200, education='Some-college', education_num=10, marital_status='Never-married', occupation='Machine-op-inspct', relationship='Own-child', race='White', sex='Male', capital_gain=0, capital_loss=0, hours_per_week=40, native-country='United-States', income='<=50K')]"
      ]
     },
     "execution_count": 14,
     "metadata": {},
     "output_type": "execute_result"
    },
    {
     "data": {
      "text/plain": [
       "[Row(age=21, workclass='Private', fnlwgt=197200, education='Some-college', education_num=10, marital_status='Never-married', occupation='Machine-op-inspct', relationship='Own-child', race='White', sex='Male', capital_gain=0, capital_loss=0, hours_per_week=40, native-country='United-States', income='<=50K')]"
      ]
     },
     "execution_count": 14,
     "metadata": {},
     "output_type": "execute_result"
    },
    {
     "data": {
      "text/plain": [
       "[Row(age=21, workclass='Private', fnlwgt=197200, education='Some-college', education_num=10, marital_status='Never-married', occupation='Machine-op-inspct', relationship='Own-child', race='White', sex='Male', capital_gain=0, capital_loss=0, hours_per_week=40, native-country='United-States', income='<=50K')]"
      ]
     },
     "execution_count": 14,
     "metadata": {},
     "output_type": "execute_result"
    },
    {
     "data": {
      "text/plain": [
       "[Row(age=21, workclass='Private', fnlwgt=197200, education='Some-college', education_num=10, marital_status='Never-married', occupation='Machine-op-inspct', relationship='Own-child', race='White', sex='Male', capital_gain=0, capital_loss=0, hours_per_week=40, native-country='United-States', income='<=50K')]"
      ]
     },
     "execution_count": 14,
     "metadata": {},
     "output_type": "execute_result"
    }
   ],
   "source": [
    "# 4.4 Filter DataFrame with filter command\n",
    "#     Many ways to filter\n",
    "#       'where' is an alias for filter\n",
    "#     Filter for age > 21, for age = 21\n",
    "\n",
    "df.filter(\"age  > 21\" ).take(1)\n",
    "\n",
    "# OR\n",
    "\n",
    "df.filter(col(\"age\") > 21).take(1)\n",
    "\n",
    "# OR\n",
    "\n",
    "df.filter(df[\"age\"] == 21).take(1)   \n",
    "\n",
    "# OR\n",
    "\n",
    "df.filter(df.age == 21).take(1)\n",
    "\n",
    "# OR\n",
    "\n",
    "df.select(\"*\").where(df.age == 21).take(1)\n",
    "\n",
    "# OR\n",
    "\n",
    "df.select(\"*\").where(\"age == 21\").take(1)\n"
   ]
  },
  {
   "cell_type": "code",
   "execution_count": 15,
   "metadata": {},
   "outputs": [
    {
     "data": {
      "text/plain": [
       "[Row(age=39, workclass='State-gov', fnlwgt=77516, education='Bachelors', education_num=13, marital_status='Never-married', occupation='Adm-clerical', relationship='Not-in-family', race='White', sex='Male', capital_gain=2174, capital_loss=0, hours_per_week=40, native-country='United-States', income='<=50K')]"
      ]
     },
     "execution_count": 15,
     "metadata": {},
     "output_type": "execute_result"
    },
    {
     "data": {
      "text/plain": [
       "[Row(age=39, workclass='State-gov', fnlwgt=77516, education='Bachelors', education_num=13, marital_status='Never-married', occupation='Adm-clerical', relationship='Not-in-family', race='White', sex='Male', capital_gain=2174, capital_loss=0, hours_per_week=40, native-country='United-States', income='<=50K')]"
      ]
     },
     "execution_count": 15,
     "metadata": {},
     "output_type": "execute_result"
    }
   ],
   "source": [
    "# 4.5: Filter for marital_status of \"Never-married\" and age > 21\n",
    "\n",
    "df.filter(df[\"marital_status\"]==\"Never-married\").take(1)   \n",
    "df.filter((df[\"marital_status\"] == \"Never-married\") & (df[\"age\"] > 21) ).take(1)   # use '&' '|'  '~' for 'not'"
   ]
  },
  {
   "cell_type": "markdown",
   "metadata": {},
   "source": [
    "### GroupBy()\n",
    "See grouped data functions [here](https://spark.apache.org/docs/latest/api/python/reference/api/pyspark.sql.GroupedData.html#pyspark-sql-groupeddata)"
   ]
  },
  {
   "cell_type": "code",
   "execution_count": 18,
   "metadata": {},
   "outputs": [],
   "source": [
    "# 4.6 GroupBy age and find mean capital_gain\n",
    "\n",
    "grouped = df.groupby(\"age\")"
   ]
  },
  {
   "cell_type": "code",
   "execution_count": 19,
   "metadata": {},
   "outputs": [
    {
     "data": {
      "text/plain": [
       "[Row(age=31, avg(capital_gain)=545.2274774774775),\n",
       " Row(age=85, avg(capital_gain)=0.0),\n",
       " Row(age=65, avg(capital_gain)=3523.7078651685392)]"
      ]
     },
     "execution_count": 19,
     "metadata": {},
     "output_type": "execute_result"
    }
   ],
   "source": [
    "# 4.6.1 USe agg(*exprs):\n",
    "\n",
    "grouped.agg({'capital_gain' : \"avg\"}).take(3)"
   ]
  },
  {
   "cell_type": "code",
   "execution_count": 20,
   "metadata": {},
   "outputs": [
    {
     "data": {
      "text/plain": [
       "[Row(age=31, avg(capital_gain)=545.2274774774775),\n",
       " Row(age=85, avg(capital_gain)=0.0),\n",
       " Row(age=65, avg(capital_gain)=3523.7078651685392)]"
      ]
     },
     "execution_count": 20,
     "metadata": {},
     "output_type": "execute_result"
    }
   ],
   "source": [
    "# 4.6.2\n",
    "\n",
    "grouped.avg('capital_gain').take(3)"
   ]
  },
  {
   "cell_type": "code",
   "execution_count": 21,
   "metadata": {},
   "outputs": [
    {
     "data": {
      "text/plain": [
       "[Row(age=31, max(capital_loss)=2415, avg(capital_gain)=545.2274774774775),\n",
       " Row(age=85, max(capital_loss)=0, avg(capital_gain)=0.0),\n",
       " Row(age=65, max(capital_loss)=2377, avg(capital_gain)=3523.7078651685392)]"
      ]
     },
     "execution_count": 21,
     "metadata": {},
     "output_type": "execute_result"
    }
   ],
   "source": [
    "# 4.6.3 Group by age. Find mean capital_gain and maximum capital_loss\n",
    "\n",
    "df.groupby(\"age\").agg({'capital_gain' : \"avg\", 'capital_loss': 'max'}).take(3)"
   ]
  },
  {
   "cell_type": "code",
   "execution_count": 22,
   "metadata": {},
   "outputs": [
    {
     "data": {
      "text/plain": [
       "[Row(max(age)=90)]"
      ]
     },
     "execution_count": 22,
     "metadata": {},
     "output_type": "execute_result"
    }
   ],
   "source": [
    "# 4.6.4\n",
    "\n",
    "df.agg({'age' : \"max\"}).take(3)"
   ]
  },
  {
   "cell_type": "markdown",
   "metadata": {},
   "source": [
    "### Correlation\n",
    "See [here](https://spark.apache.org/docs/3.1.1/api/python/reference/api/pyspark.ml.stat.Correlation.html)"
   ]
  },
  {
   "cell_type": "code",
   "execution_count": 23,
   "metadata": {},
   "outputs": [
    {
     "data": {
      "text/plain": [
       "0.07767449816599412"
      ]
     },
     "execution_count": 23,
     "metadata": {},
     "output_type": "execute_result"
    }
   ],
   "source": [
    "# 5.0 Correlation of two columns\n",
    "#      For multiple columns data must be\n",
    "#      first assembled by VectorAssembler\n",
    "\n",
    "df.corr('age', 'capital_gain')"
   ]
  },
  {
   "cell_type": "code",
   "execution_count": 24,
   "metadata": {},
   "outputs": [],
   "source": [
    "# 5.1 For multiple cols, first create a vector\n",
    "#     then find correlation:\n",
    "\n",
    "vc = VectorAssembler(\n",
    "                      inputCols = ['age', 'capital_gain', 'capital_loss', 'hours_per_week'],\n",
    "                      outputCol = 'numeric'\n",
    "                    )\n",
    "\n",
    "dx = vc.transform(df).select('numeric')"
   ]
  },
  {
   "cell_type": "code",
   "execution_count": 25,
   "metadata": {},
   "outputs": [
    {
     "name": "stdout",
     "output_type": "stream",
     "text": [
      "DenseMatrix([[ 1.        ,  0.0776745 ,  0.05777454,  0.06875571],\n",
      "             [ 0.0776745 ,  1.        , -0.03161506,  0.07840862],\n",
      "             [ 0.05777454, -0.03161506,  1.        ,  0.05425636],\n",
      "             [ 0.06875571,  0.07840862,  0.05425636,  1.        ]])\n"
     ]
    }
   ],
   "source": [
    "# 5.2\n",
    "\n",
    "from pyspark.ml.stat import Correlation\n",
    " \n",
    "pearsonCorr = Correlation.corr(dx, 'numeric', 'pearson').collect()[0][0]\n",
    "print(str(pearsonCorr).replace('nan', 'NaN'))\n"
   ]
  },
  {
   "cell_type": "code",
   "execution_count": 26,
   "metadata": {},
   "outputs": [],
   "source": [
    "# 5.3 Define a function to do the work\n",
    "\n",
    "def num_corr(df,cols):\n",
    "    vc = VectorAssembler(\n",
    "                         inputCols = cols,\n",
    "                         outputCol = 'numeric'\n",
    "                        )\n",
    "    dx = vc.transform(df).select('numeric')\n",
    "    pearsonCorr = Correlation.corr(dx, 'numeric', 'pearson').collect()[0][0]\n",
    "    print(str(pearsonCorr).replace('nan', 'NaN'))\n",
    "    "
   ]
  },
  {
   "cell_type": "code",
   "execution_count": 27,
   "metadata": {},
   "outputs": [
    {
     "name": "stdout",
     "output_type": "stream",
     "text": [
      "DenseMatrix([[ 1.        ,  0.0776745 ,  0.05777454,  0.06875571],\n",
      "             [ 0.0776745 ,  1.        , -0.03161506,  0.07840862],\n",
      "             [ 0.05777454, -0.03161506,  1.        ,  0.05425636],\n",
      "             [ 0.06875571,  0.07840862,  0.05425636,  1.        ]])\n"
     ]
    }
   ],
   "source": [
    "# 5.4 Use the function\n",
    "\n",
    "cols =  ['age', 'capital_gain', 'capital_loss', 'hours_per_week']\n",
    "num_corr(df,cols)"
   ]
  },
  {
   "cell_type": "markdown",
   "metadata": {},
   "source": [
    "### To pandas or to numpy\n",
    "Maybe for plotting "
   ]
  },
  {
   "cell_type": "code",
   "execution_count": 28,
   "metadata": {},
   "outputs": [
    {
     "data": {
      "text/plain": [
       "array([['21', 'Private', '197200', 'Some-college', '10', 'Never-married',\n",
       "        'Machine-op-inspct', 'Own-child', 'White', 'Male', '0', '0',\n",
       "        '40', 'United-States', '<=50K'],\n",
       "       ['21', 'Private', '199915', 'Some-college', '10', 'Never-married',\n",
       "        'Other-service', 'Own-child', 'White', 'Female', '0', '0', '40',\n",
       "        'United-States', '<=50K']], dtype='<U21')"
      ]
     },
     "execution_count": 28,
     "metadata": {},
     "output_type": "execute_result"
    },
    {
     "data": {
      "text/plain": [
       "array([[21, 'Private', 197200, ..., 40, 'United-States', '<=50K'],\n",
       "       [21, 'Private', 199915, ..., 40, 'United-States', '<=50K'],\n",
       "       [21, 'Private', 296158, ..., 35, 'United-States', '<=50K'],\n",
       "       ...,\n",
       "       [21, 'Private', 67804, ..., 20, 'United-States', '<=50K'],\n",
       "       [21, None, 205939, ..., 40, 'United-States', '<=50K'],\n",
       "       [21, 'Private', 182117, ..., 40, 'United-States', '<=50K']],\n",
       "      dtype=object)"
      ]
     },
     "execution_count": 28,
     "metadata": {},
     "output_type": "execute_result"
    }
   ],
   "source": [
    "# 6.0 Transforming filtered data to numpy array\n",
    "#     Maybe for plotting:\n",
    "\n",
    "np.array(df.filter(df.age == 21).take(2))\n",
    "\n",
    "# OR full data\n",
    "\n",
    "np.array(df.filter(df.age == 21).collect())\n"
   ]
  },
  {
   "cell_type": "code",
   "execution_count": 29,
   "metadata": {},
   "outputs": [
    {
     "data": {
      "text/html": [
       "<div>\n",
       "<style scoped>\n",
       "    .dataframe tbody tr th:only-of-type {\n",
       "        vertical-align: middle;\n",
       "    }\n",
       "\n",
       "    .dataframe tbody tr th {\n",
       "        vertical-align: top;\n",
       "    }\n",
       "\n",
       "    .dataframe thead th {\n",
       "        text-align: right;\n",
       "    }\n",
       "</style>\n",
       "<table border=\"1\" class=\"dataframe\">\n",
       "  <thead>\n",
       "    <tr style=\"text-align: right;\">\n",
       "      <th></th>\n",
       "      <th>age</th>\n",
       "      <th>workclass</th>\n",
       "      <th>fnlwgt</th>\n",
       "      <th>education</th>\n",
       "      <th>education_num</th>\n",
       "      <th>marital_status</th>\n",
       "      <th>occupation</th>\n",
       "      <th>relationship</th>\n",
       "      <th>race</th>\n",
       "      <th>sex</th>\n",
       "      <th>capital_gain</th>\n",
       "      <th>capital_loss</th>\n",
       "      <th>hours_per_week</th>\n",
       "      <th>native-country</th>\n",
       "      <th>income</th>\n",
       "    </tr>\n",
       "  </thead>\n",
       "  <tbody>\n",
       "    <tr>\n",
       "      <th>0</th>\n",
       "      <td>39</td>\n",
       "      <td>State-gov</td>\n",
       "      <td>77516</td>\n",
       "      <td>Bachelors</td>\n",
       "      <td>13</td>\n",
       "      <td>Never-married</td>\n",
       "      <td>Adm-clerical</td>\n",
       "      <td>Not-in-family</td>\n",
       "      <td>White</td>\n",
       "      <td>Male</td>\n",
       "      <td>2174</td>\n",
       "      <td>0</td>\n",
       "      <td>40</td>\n",
       "      <td>United-States</td>\n",
       "      <td>&lt;=50K</td>\n",
       "    </tr>\n",
       "    <tr>\n",
       "      <th>1</th>\n",
       "      <td>50</td>\n",
       "      <td>Self-emp-not-inc</td>\n",
       "      <td>83311</td>\n",
       "      <td>Bachelors</td>\n",
       "      <td>13</td>\n",
       "      <td>Married-civ-spouse</td>\n",
       "      <td>Exec-managerial</td>\n",
       "      <td>Husband</td>\n",
       "      <td>White</td>\n",
       "      <td>Male</td>\n",
       "      <td>0</td>\n",
       "      <td>0</td>\n",
       "      <td>13</td>\n",
       "      <td>United-States</td>\n",
       "      <td>&lt;=50K</td>\n",
       "    </tr>\n",
       "  </tbody>\n",
       "</table>\n",
       "</div>"
      ],
      "text/plain": [
       "   age         workclass  fnlwgt  education  education_num  \\\n",
       "0   39         State-gov   77516  Bachelors             13   \n",
       "1   50  Self-emp-not-inc   83311  Bachelors             13   \n",
       "\n",
       "       marital_status       occupation   relationship   race   sex  \\\n",
       "0       Never-married     Adm-clerical  Not-in-family  White  Male   \n",
       "1  Married-civ-spouse  Exec-managerial        Husband  White  Male   \n",
       "\n",
       "   capital_gain  capital_loss  hours_per_week native-country income  \n",
       "0          2174             0              40  United-States  <=50K  \n",
       "1             0             0              13  United-States  <=50K  "
      ]
     },
     "execution_count": 29,
     "metadata": {},
     "output_type": "execute_result"
    }
   ],
   "source": [
    "# 6.1 Return a pandas dataframe\n",
    "\n",
    "abc = df.toPandas()\n",
    "abc.head(2)"
   ]
  },
  {
   "cell_type": "markdown",
   "metadata": {},
   "source": [
    "### Null values"
   ]
  },
  {
   "cell_type": "code",
   "execution_count": 30,
   "metadata": {},
   "outputs": [],
   "source": [
    "# 7.0 Per column how many null values:\n",
    "\n",
    "from pyspark.sql.functions import isnan, when, count, col\n",
    "\n",
    "def null_values(data):\n",
    "  data.select([count(when(isnan(c) | col(c).isNull(), c)).alias(c) for c in data.columns]).show()"
   ]
  },
  {
   "cell_type": "code",
   "execution_count": 31,
   "metadata": {},
   "outputs": [
    {
     "name": "stdout",
     "output_type": "stream",
     "text": [
      "+---+---------+------+---------+-------------+--------------+----------+------------+----+---+------------+------------+--------------+--------------+------+\n",
      "|age|workclass|fnlwgt|education|education_num|marital_status|occupation|relationship|race|sex|capital_gain|capital_loss|hours_per_week|native-country|income|\n",
      "+---+---------+------+---------+-------------+--------------+----------+------------+----+---+------------+------------+--------------+--------------+------+\n",
      "|  0|     1836|     0|        0|            0|             0|      1843|           0|   0|  0|           0|           0|             0|           583|     0|\n",
      "+---+---------+------+---------+-------------+--------------+----------+------------+----+---+------------+------------+--------------+--------------+------+\n",
      "\n"
     ]
    }
   ],
   "source": [
    "# 7.1 Use the function:\n",
    "\n",
    "null_values(df)"
   ]
  },
  {
   "cell_type": "code",
   "execution_count": 32,
   "metadata": {},
   "outputs": [
    {
     "data": {
      "text/plain": [
       "0"
      ]
     },
     "execution_count": 32,
     "metadata": {},
     "output_type": "execute_result"
    }
   ],
   "source": [
    "# 7.2 Use where filter\n",
    "df.select('*').where(df.income.isNull()).count()"
   ]
  },
  {
   "cell_type": "code",
   "execution_count": 33,
   "metadata": {},
   "outputs": [
    {
     "data": {
      "text/plain": [
       "32561"
      ]
     },
     "execution_count": 33,
     "metadata": {},
     "output_type": "execute_result"
    }
   ],
   "source": [
    "# 7.3\n",
    "df.select('*').where(~df.income.isNull()).count()"
   ]
  },
  {
   "cell_type": "code",
   "execution_count": 34,
   "metadata": {},
   "outputs": [],
   "source": [
    "# 7.4\n",
    "df = df.select('*').where(~df.income.isNull())"
   ]
  },
  {
   "cell_type": "code",
   "execution_count": 35,
   "metadata": {},
   "outputs": [
    {
     "data": {
      "text/plain": [
       "0"
      ]
     },
     "execution_count": 35,
     "metadata": {},
     "output_type": "execute_result"
    }
   ],
   "source": [
    "# 7.5\n",
    "df.select('*').where(df.income.isNull()).count()"
   ]
  },
  {
   "cell_type": "code",
   "execution_count": 41,
   "metadata": {},
   "outputs": [
    {
     "name": "stdout",
     "output_type": "stream",
     "text": [
      "+----------------+-----+\n",
      "|       workclass|count|\n",
      "+----------------+-----+\n",
      "|Self-emp-not-inc| 2541|\n",
      "|            null| 1836|\n",
      "|       Local-gov| 2093|\n",
      "+----------------+-----+\n",
      "only showing top 3 rows\n",
      "\n",
      "+------------+-----+\n",
      "|   workclass|count|\n",
      "+------------+-----+\n",
      "|Never-worked|    7|\n",
      "| Without-pay|   14|\n",
      "| Federal-gov|  960|\n",
      "+------------+-----+\n",
      "only showing top 3 rows\n",
      "\n",
      "+----------------+-----+\n",
      "|       workclass|count|\n",
      "+----------------+-----+\n",
      "|         Private|22696|\n",
      "|Self-emp-not-inc| 2541|\n",
      "|       Local-gov| 2093|\n",
      "+----------------+-----+\n",
      "only showing top 3 rows\n",
      "\n"
     ]
    },
    {
     "data": {
      "text/plain": [
       "Row(workclass='Private', count=22696)"
      ]
     },
     "execution_count": 41,
     "metadata": {},
     "output_type": "execute_result"
    },
    {
     "data": {
      "text/plain": [
       "'Private'"
      ]
     },
     "execution_count": 41,
     "metadata": {},
     "output_type": "execute_result"
    },
    {
     "data": {
      "text/plain": [
       "'Private'"
      ]
     },
     "execution_count": 41,
     "metadata": {},
     "output_type": "execute_result"
    },
    {
     "data": {
      "text/plain": [
       "'Private'"
      ]
     },
     "execution_count": 41,
     "metadata": {},
     "output_type": "execute_result"
    }
   ],
   "source": [
    "# 9.0 Getting mode of a feature--step-by-step\n",
    "\n",
    "df.groupby('workclass').count().show(3)\n",
    "df.groupby('workclass').count().orderBy(\"count\").show(3)\n",
    "df.groupby('workclass').count().orderBy(\"count\",ascending = False).show(3)\n",
    "df.groupby('workclass').count().orderBy(\"count\",ascending = False).first()     # Print first Row\n",
    "\n",
    "# 9.0.1 Row object:\n",
    "df.groupby('workclass').count().orderBy(\"count\",ascending = False).first()['workclass'] # Access values as dict values\n",
    "df.groupby('workclass').count().orderBy(\"count\",ascending = False).first().workclass    # Access values like attributes\n",
    "df.groupby('workclass').count().orderBy(\"count\",ascending = False).first()[0]           # Row object behaves as a dict"
   ]
  },
  {
   "cell_type": "code",
   "execution_count": 42,
   "metadata": {},
   "outputs": [
    {
     "data": {
      "text/plain": [
       "[['age', 36],\n",
       " ['workclass', 'Private'],\n",
       " ['fnlwgt', 164190],\n",
       " ['education', 'HS-grad'],\n",
       " ['education_num', 9],\n",
       " ['marital_status', 'Married-civ-spouse'],\n",
       " ['occupation', 'Prof-specialty'],\n",
       " ['relationship', 'Husband'],\n",
       " ['race', 'White'],\n",
       " ['sex', 'Male'],\n",
       " ['capital_gain', 0],\n",
       " ['capital_loss', 0],\n",
       " ['hours_per_week', 40],\n",
       " ['native-country', 'United-States'],\n",
       " ['income', '<=50K']]"
      ]
     },
     "execution_count": 42,
     "metadata": {},
     "output_type": "execute_result"
    }
   ],
   "source": [
    "# 9.1 Find mode of each column\n",
    "# Refer: https://stackoverflow.com/a/58279672\n",
    "\n",
    "[[i,df.groupby(i).count().orderBy(\"count\", ascending=False).first()[0]] for i in df.columns]"
   ]
  },
  {
   "cell_type": "markdown",
   "metadata": {},
   "source": [
    "#### Fill up NAs"
   ]
  },
  {
   "cell_type": "code",
   "execution_count": 43,
   "metadata": {},
   "outputs": [],
   "source": [
    "# 9.2 Fill up NAs now:\n",
    "\n",
    "df = df.fillna('Private', subset = ['workclass'])\n",
    "df = df.fillna('Prof-specialty', subset = ['occupation'])\n",
    "df = df.fillna('United-States', subset = ['native-country'])"
   ]
  },
  {
   "cell_type": "code",
   "execution_count": 44,
   "metadata": {},
   "outputs": [
    {
     "name": "stdout",
     "output_type": "stream",
     "text": [
      "+---+---------+------+---------+-------------+--------------+----------+------------+----+---+------------+------------+--------------+--------------+------+\n",
      "|age|workclass|fnlwgt|education|education_num|marital_status|occupation|relationship|race|sex|capital_gain|capital_loss|hours_per_week|native-country|income|\n",
      "+---+---------+------+---------+-------------+--------------+----------+------------+----+---+------------+------------+--------------+--------------+------+\n",
      "|  0|        0|     0|        0|            0|             0|         0|           0|   0|  0|           0|           0|             0|             0|     0|\n",
      "+---+---------+------+---------+-------------+--------------+----------+------------+----+---+------------+------------+--------------+--------------+------+\n",
      "\n"
     ]
    }
   ],
   "source": [
    "# 9.3 Check if NAs have been filled?\n",
    "\n",
    "null_values(df)"
   ]
  },
  {
   "cell_type": "code",
   "execution_count": null,
   "metadata": {},
   "outputs": [],
   "source": [
    "######################### I am done ######################################"
   ]
  },
  {
   "cell_type": "code",
   "execution_count": null,
   "metadata": {},
   "outputs": [],
   "source": [
    "######################################################################\n",
    "# About OneHotEncoder\n",
    "# A one-hot encoder that maps a column of category indices to a column of binary vectors,\n",
    "#  with at most a single one-value per row that indicates the input category index. For\n",
    "#   example with 5 categories, an input value of 2.0 would map to an output vector of\n",
    "#   [0.0, 0.0, 1.0, 0.0]. The last category is not included by default (configurable via\n",
    "#    dropLast) because it makes the vector entries sum up to one, and hence linearly dependent.\n",
    "#     So an input value of 4.0 maps to [0.0, 0.0, 0.0, 0.0].\n",
    "# Note\n",
    "#  This is different from scikit-learn’s OneHotEncoder, which keeps all categories. The output\n",
    "#    vectors are sparse.\n",
    "##########################################################################\n",
    "\n",
    "# About VectorAssembler\n",
    "# A one-hot encoder that maps a column of category indices to a column of binary vectors,\n",
    "#  with at most a single one-value per row that indicates the input category index. For\n",
    "#   example with 5 categories, an input value of 2.0 would map to an output vector of\n",
    "#   [0.0, 0.0, 1.0, 0.0]. The last category is not included by default (configurable via\n",
    "#    dropLast) because it makes the vector entries sum up to one, and hence linearly dependent.\n",
    "#     So an input value of 4.0 maps to [0.0, 0.0, 0.0, 0.0].\n",
    "# Note\n",
    "#  This is different from scikit-learn’s OneHotEncoder, which keeps all categories. The output\n",
    "#    vectors are sparse.\n",
    "##################################################"
   ]
  },
  {
   "cell_type": "code",
   "execution_count": null,
   "metadata": {},
   "outputs": [],
   "source": [
    "################################## DONE ###########################"
   ]
  }
 ],
 "metadata": {
  "kernelspec": {
   "display_name": "Python 3",
   "language": "python",
   "name": "python3"
  },
  "language_info": {
   "codemirror_mode": {
    "name": "ipython",
    "version": 3
   },
   "file_extension": ".py",
   "mimetype": "text/x-python",
   "name": "python",
   "nbconvert_exporter": "python",
   "pygments_lexer": "ipython3",
   "version": "3.8.8"
  }
 },
 "nbformat": 4,
 "nbformat_minor": 2
}
