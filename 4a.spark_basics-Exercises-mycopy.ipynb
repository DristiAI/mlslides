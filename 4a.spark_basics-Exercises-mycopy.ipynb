{
 "cells": [
  {
   "cell_type": "code",
   "execution_count": null,
   "metadata": {},
   "outputs": [],
   "source": [
    "#  Last amended:06th September, 2021\n",
    "#  Myfolder: /home/ashok/Documents/spark\n",
    "# Ref:\n",
    "# Tutorials (slightly dated):\n",
    "#      https://changhsinlee.com/pyspark-dataframe-basics/\n",
    "#      https://www.analyticsvidhya.com/blog/2016/10/spark-dataframe-and-operations/\n",
    "# Cheat Sheet\n",
    "#      https://s3.amazonaws.com/assets.datacamp.com/blog_assets/PySpark_SQL_Cheat_Sheet_Python.pdf\n",
    "\n",
    "#  Objectives:\n",
    "#           Exercise for students--Dataframe operations "
   ]
  },
  {
   "cell_type": "markdown",
   "metadata": {},
   "source": [
    "### pyspark APIs<br>\n",
    "> i)  [DataFrame APIs](https://spark.apache.org/docs/latest/api/python/reference/pyspark.sql.html#dataframe-apis)<br>\n",
    ">> df.select(columnName).where(colObject > 30).orderBy(desc(columnName))<br>\n",
    ">> df.select(columnName).where(\"colName > 30\").orderBy(desc(columnName))<br>\n",
    "\n",
    "> ii) [Column APIs](https://spark.apache.org/docs/latest/api/python/reference/pyspark.sql.html#column-apis)<br>\n",
    ">> df.select(df.age.isNull())<br>\n",
    ">> df.select(df[\"age\"].isNull())<br>\n",
    ">> df.select(col(\"age\").isNull())<br>\n",
    "\n",
    "> iii)[Data Tyoes](https://spark.apache.org/docs/latest/api/python/reference/pyspark.sql.html#data-types)<br>\n",
    "> iv) [Functions](https://spark.apache.org/docs/latest/api/python/reference/pyspark.sql.html#functions)<br>\n",
    ">> df.select(sum(\"age\"))<br>\n",
    ">> df.select(sum(col(booleanColumn).cast(\"int\")))<br>\n",
    ">> <u>but you must import the functions</u>\n",
    "\n",
    "> v)  [Grouping](https://spark.apache.org/docs/latest/api/python/reference/pyspark.sql.html#grouping)<br>"
   ]
  },
  {
   "cell_type": "markdown",
   "metadata": {},
   "source": [
    "A. Initial operations:<br>\n",
    "Start hadoop in a terminal:\n",
    "\n",
    "            ./allstart.sh"
   ]
  },
  {
   "cell_type": "markdown",
   "metadata": {},
   "source": [
    "## Transfer files to hadoop"
   ]
  },
  {
   "cell_type": "code",
   "execution_count": null,
   "metadata": {},
   "outputs": [],
   "source": [
    "# 1.1 Transfer data file 'blackfridayless.csv' \n",
    "#     from linux foder:     /cdata/misc_datasets/black_friday/\n",
    "#     to hadoop at:   /user/ashok/datadir/ \n",
    "\n",
    "\n",
    "\"\"\"\n",
    "\n",
    "cd ~\n",
    "hdfs dfs -rm -f -r  /user/ashok/datadir\n",
    "hdfs dfs -mkdir /user/ashok/datadir\n",
    "hdfs dfs -put /cdata/misc_datasets/black_friday/blackfridayless.csv  /user/ashok/datadir\n",
    "hdfs dfs -ls /user/ashok/datadir\n",
    "\n",
    "\n",
    "\n",
    "\n",
    "\n",
    "\n",
    "\"\"\""
   ]
  },
  {
   "cell_type": "markdown",
   "metadata": {},
   "source": [
    "## Set jupyter notebook options\n",
    "Start pyspark with jupyter notebook interface. There is no need to create SparkContext and Spark session. pyspark creates them when starting."
   ]
  },
  {
   "cell_type": "code",
   "execution_count": 1,
   "metadata": {},
   "outputs": [],
   "source": [
    "# 1.2 Display multiple outputs from a cell\n",
    "from IPython.core.interactiveshell import InteractiveShell\n",
    "InteractiveShell.ast_node_interactivity = \"all\""
   ]
  },
  {
   "cell_type": "code",
   "execution_count": 2,
   "metadata": {},
   "outputs": [
    {
     "data": {
      "text/html": [
       "<style>.container { width:100% !important; }</style>"
      ],
      "text/plain": [
       "<IPython.core.display.HTML object>"
      ]
     },
     "metadata": {},
     "output_type": "display_data"
    }
   ],
   "source": [
    "# 1.3 Increase cell width to display wide columnar output\n",
    "from IPython.core.display import display, HTML\n",
    "display(HTML(\"<style>.container { width:100% !important; }</style>\"))"
   ]
  },
  {
   "cell_type": "markdown",
   "metadata": {},
   "source": [
    "### Read the csv file from hadoop"
   ]
  },
  {
   "cell_type": "code",
   "execution_count": 3,
   "metadata": {},
   "outputs": [],
   "source": [
    "###### Read file 'blackfridayless.csv' from hadoop\n",
    "\n",
    "# 1.4 What is the URL of my file?\n",
    "\n",
    "URL_of_file= \"hdfs://localhost:9000/user/ashok/datadir/\"\n",
    "\n",
    "# 1.5 Takes time. We use 'spark' session object to read file:\n",
    "blackfriday = spark.read.csv(\n",
    "                             path = URL_of_file + \"blackfridayless.csv\",\n",
    "                             inferSchema = True,      # Default: False\n",
    "                             header = True,           # Default: False\n",
    "                             sep = \",\",               # Default: \",\"\n",
    "                             ignoreLeadingWhiteSpace = True,  # Default: False\n",
    "                             ignoreTrailingWhiteSpace = True  # Default: False\n",
    "    \n",
    "                            )"
   ]
  },
  {
   "cell_type": "markdown",
   "metadata": {},
   "source": [
    "## Explore the dataframe"
   ]
  },
  {
   "cell_type": "code",
   "execution_count": 4,
   "metadata": {},
   "outputs": [
    {
     "name": "stdout",
     "output_type": "stream",
     "text": [
      "+-------+---------+------+----+----------+------------+-------------+-------------+-----------+-----------+-----------+--------+\n",
      "| userId|productId|gender| age|occupation|cityCategory|stayCityYears|maritalStatus|productCat1|productCat2|productCat3|purchase|\n",
      "+-------+---------+------+----+----------+------------+-------------+-------------+-----------+-----------+-----------+--------+\n",
      "|1000001|P00069042|     F|0-17|        10|           A|            2|            0|          3|       null|       null|    8370|\n",
      "|1000001|P00248942|     F|0-17|        10|           A|            2|            0|          1|          6|         14|   15200|\n",
      "|1000001|P00087842|     F|0-17|        10|           A|            2|            0|         12|       null|       null|    1422|\n",
      "+-------+---------+------+----+----------+------------+-------------+-------------+-----------+-----------+-----------+--------+\n",
      "only showing top 3 rows\n",
      "\n",
      "['userId', 'productId', 'gender', 'age', 'occupation', 'cityCategory', 'stayCityYears', 'maritalStatus', 'productCat1', 'productCat2', 'productCat3', 'purchase']\n",
      "[('userId', 'int'), ('productId', 'string'), ('gender', 'string'), ('age', 'string'), ('occupation', 'int'), ('cityCategory', 'string'), ('stayCityYears', 'string'), ('maritalStatus', 'int'), ('productCat1', 'int'), ('productCat2', 'int'), ('productCat3', 'int'), ('purchase', 'int')]\n"
     ]
    }
   ],
   "source": [
    "blackfriday.show(3)\n",
    "print(blackfriday.columns)\n",
    "print(blackfriday.dtypes)"
   ]
  },
  {
   "cell_type": "code",
   "execution_count": 5,
   "metadata": {},
   "outputs": [
    {
     "name": "stdout",
     "output_type": "stream",
     "text": [
      "root\n",
      " |-- userId: integer (nullable = true)\n",
      " |-- productId: string (nullable = true)\n",
      " |-- gender: string (nullable = true)\n",
      " |-- age: string (nullable = true)\n",
      " |-- occupation: integer (nullable = true)\n",
      " |-- cityCategory: string (nullable = true)\n",
      " |-- stayCityYears: string (nullable = true)\n",
      " |-- maritalStatus: integer (nullable = true)\n",
      " |-- productCat1: integer (nullable = true)\n",
      " |-- productCat2: integer (nullable = true)\n",
      " |-- productCat3: integer (nullable = true)\n",
      " |-- purchase: integer (nullable = true)\n",
      "\n"
     ]
    }
   ],
   "source": [
    "# Print schema of blackfriday:\n",
    "\n",
    "blackfriday.printSchema()"
   ]
  },
  {
   "cell_type": "code",
   "execution_count": 6,
   "metadata": {},
   "outputs": [
    {
     "name": "stdout",
     "output_type": "stream",
     "text": [
      "+-------+------------------+---------+------+------+\n",
      "|summary|            userId|productId|gender|   age|\n",
      "+-------+------------------+---------+------+------+\n",
      "|  count|            100887|   100887|100887|100887|\n",
      "|   mean|1002746.9106723364|     null|  null|  null|\n",
      "| stddev|1678.5336050997462|     null|  null|  null|\n",
      "|    min|           1000001|P00000142|     F|  0-17|\n",
      "|    max|           1006040| P0099942|     M|   55+|\n",
      "+-------+------------------+---------+------+------+\n",
      "\n",
      "+-------+-----------------+------------+------------------+-------------------+\n",
      "|summary|       occupation|cityCategory|     stayCityYears|      maritalStatus|\n",
      "+-------+-----------------+------------+------------------+-------------------+\n",
      "|  count|           100887|      100887|            100887|             100887|\n",
      "|   mean|8.086631577903992|        null|1.4730108801539887|0.40921030459821384|\n",
      "| stddev|6.529747259316683|        null|0.9918812951876441|0.49169058110724656|\n",
      "|    min|                0|           A|                 0|                  0|\n",
      "|    max|               20|           C|                4+|                  1|\n",
      "+-------+-----------------+------------+------------------+-------------------+\n",
      "\n",
      "+-------+-----------------+-----------------+------------------+-----------------+\n",
      "|summary|      productCat1|      productCat2|       productCat3|         purchase|\n",
      "+-------+-----------------+-----------------+------------------+-----------------+\n",
      "|  count|           100887|            69458|             30787|           100887|\n",
      "|   mean|5.300236898708456|9.858864349678942|12.658102445837528|9298.579945880045|\n",
      "| stddev|3.734879811232304|5.084170589056789|4.1247171190814464|4967.311759804714|\n",
      "|    min|                1|                2|                 3|              185|\n",
      "|    max|               18|               18|                18|            23961|\n",
      "+-------+-----------------+-----------------+------------------+-----------------+\n",
      "\n"
     ]
    }
   ],
   "source": [
    "# Describe the statistics of data:\n",
    "\n",
    "blackfriday.select([\"userId\", \"productId\", \"gender\", \"age\"]).describe().show()\n",
    "blackfriday.select([\"occupation\", \"cityCategory\", \"stayCityYears\", \"maritalStatus\"]).describe().show()\n",
    "blackfriday.select([\"productCat1\", \"productCat2\", \"productCat3\", \"purchase\"]).describe().show()"
   ]
  },
  {
   "cell_type": "code",
   "execution_count": 5,
   "metadata": {},
   "outputs": [
    {
     "data": {
      "text/plain": [
       "5801"
      ]
     },
     "execution_count": 5,
     "metadata": {},
     "output_type": "execute_result"
    },
    {
     "data": {
      "text/plain": [
       "7"
      ]
     },
     "execution_count": 5,
     "metadata": {},
     "output_type": "execute_result"
    }
   ],
   "source": [
    "# Count How many distinct userids are there \n",
    "blackfriday.select([\"userid\"]).distinct().count()\n",
    "# Count how many distinct age-groups exist\n",
    "blackfriday.select([\"age\"]).distinct().count()"
   ]
  },
  {
   "cell_type": "code",
   "execution_count": 24,
   "metadata": {},
   "outputs": [],
   "source": [
    "# How many null values occur in each column\n",
    "from pyspark.sql.functions import isnan, isnull,col, sum, max, min"
   ]
  },
  {
   "cell_type": "code",
   "execution_count": 12,
   "metadata": {},
   "outputs": [
    {
     "name": "stdout",
     "output_type": "stream",
     "text": [
      "+------+\n",
      "|userId|\n",
      "+------+\n",
      "|     0|\n",
      "+------+\n",
      "\n",
      "+---------+\n",
      "|productId|\n",
      "+---------+\n",
      "|        0|\n",
      "+---------+\n",
      "\n",
      "+------+\n",
      "|gender|\n",
      "+------+\n",
      "|     0|\n",
      "+------+\n",
      "\n",
      "+---+\n",
      "|age|\n",
      "+---+\n",
      "|  0|\n",
      "+---+\n",
      "\n",
      "+----------+\n",
      "|occupation|\n",
      "+----------+\n",
      "|         0|\n",
      "+----------+\n",
      "\n",
      "+------------+\n",
      "|cityCategory|\n",
      "+------------+\n",
      "|           0|\n",
      "+------------+\n",
      "\n",
      "+-------------+\n",
      "|stayCityYears|\n",
      "+-------------+\n",
      "|            0|\n",
      "+-------------+\n",
      "\n",
      "+-------------+\n",
      "|maritalStatus|\n",
      "+-------------+\n",
      "|            0|\n",
      "+-------------+\n",
      "\n",
      "+-----------+\n",
      "|productCat1|\n",
      "+-----------+\n",
      "|          0|\n",
      "+-----------+\n",
      "\n",
      "+-----------+\n",
      "|productCat2|\n",
      "+-----------+\n",
      "|      31429|\n",
      "+-----------+\n",
      "\n",
      "+-----------+\n",
      "|productCat3|\n",
      "+-----------+\n",
      "|      70100|\n",
      "+-----------+\n",
      "\n",
      "+--------+\n",
      "|purchase|\n",
      "+--------+\n",
      "|       0|\n",
      "+--------+\n",
      "\n"
     ]
    }
   ],
   "source": [
    "for i in blackfriday.columns:\n",
    "    blackfriday.select(sum(col(i).isNull().alias(\"nullcol\").cast(\"int\")).alias(i)).show()    "
   ]
  },
  {
   "cell_type": "markdown",
   "metadata": {},
   "source": [
    "These columns have null values. Most probably it means that there is no sub-category or sub-categories present. <br>\n",
    "How would you plan to fill them?<br>\n",
    "productCat1 :  0 <br>\n",
    "productCat2 :  31429 <br>\n",
    "productCat3 :  70100 <br>"
   ]
  },
  {
   "cell_type": "code",
   "execution_count": 7,
   "metadata": {},
   "outputs": [],
   "source": [
    "# Get a list of all integer columns and string columns\n",
    "intCols = [i[0] for i in blackfriday.dtypes  if i[1] == \"int\" ]\n",
    "strCols = [i[0] for i in blackfriday.dtypes  if i[1] == \"string\" ]"
   ]
  },
  {
   "cell_type": "code",
   "execution_count": 8,
   "metadata": {},
   "outputs": [
    {
     "name": "stdout",
     "output_type": "stream",
     "text": [
      "['userId', 'occupation', 'maritalStatus', 'productCat1', 'productCat2', 'productCat3', 'purchase']\n",
      "['productId', 'gender', 'age', 'cityCategory', 'stayCityYears']\n"
     ]
    }
   ],
   "source": [
    "print(intCols)\n",
    "print(strCols)"
   ]
  },
  {
   "cell_type": "code",
   "execution_count": 13,
   "metadata": {},
   "outputs": [
    {
     "name": "stdout",
     "output_type": "stream",
     "text": [
      "+----------------+\n",
      "|max(productCat2)|\n",
      "+----------------+\n",
      "|              18|\n",
      "+----------------+\n",
      "\n",
      "+----------------+\n",
      "|max(productCat3)|\n",
      "+----------------+\n",
      "|              18|\n",
      "+----------------+\n",
      "\n"
     ]
    }
   ],
   "source": [
    "blackfriday.select(max('productCat2')).show()\n",
    "blackfriday.select(max('productCat3')).show()"
   ]
  },
  {
   "cell_type": "code",
   "execution_count": 14,
   "metadata": {},
   "outputs": [
    {
     "name": "stdout",
     "output_type": "stream",
     "text": [
      "+---------------+\n",
      "|max(occupation)|\n",
      "+---------------+\n",
      "|             20|\n",
      "+---------------+\n",
      "\n"
     ]
    }
   ],
   "source": [
    "# Find minimum and max values of each column\n",
    "blackfriday.select(max(col('occupation'))).show()"
   ]
  },
  {
   "cell_type": "code",
   "execution_count": 15,
   "metadata": {},
   "outputs": [
    {
     "name": "stdout",
     "output_type": "stream",
     "text": [
      "+-------+---------+------+-----+----------+------------+-------------+-------------+-----------+-----------+-----------+--------+\n",
      "| userId|productId|gender|  age|occupation|cityCategory|stayCityYears|maritalStatus|productCat1|productCat2|productCat3|purchase|\n",
      "+-------+---------+------+-----+----------+------------+-------------+-------------+-----------+-----------+-----------+--------+\n",
      "|1000001|P00069042|     F| 0-17|        10|           A|            2|            0|          3|        999|       null|    8370|\n",
      "|1000001|P00248942|     F| 0-17|        10|           A|            2|            0|          1|          6|         14|   15200|\n",
      "|1000001|P00087842|     F| 0-17|        10|           A|            2|            0|         12|        999|       null|    1422|\n",
      "|1000001|P00085442|     F| 0-17|        10|           A|            2|            0|         12|         14|       null|    1057|\n",
      "|1000002|P00285442|     M|  55+|        16|           C|           4+|            0|          8|        999|       null|    7969|\n",
      "|1000003|P00193542|     M|26-35|        15|           A|            3|            0|          1|          2|       null|   15227|\n",
      "|1000004|P00184942|     M|46-50|         7|           B|            2|            1|          1|          8|         17|   19215|\n",
      "|1000004|P00346142|     M|46-50|         7|           B|            2|            1|          1|         15|       null|   15854|\n",
      "|1000004| P0097242|     M|46-50|         7|           B|            2|            1|          1|         16|       null|   15686|\n",
      "|1000005|P00274942|     M|26-35|        20|           A|            1|            1|          8|        999|       null|    7871|\n",
      "|1000005|P00251242|     M|26-35|        20|           A|            1|            1|          5|         11|       null|    5254|\n",
      "|1000005|P00014542|     M|26-35|        20|           A|            1|            1|          8|        999|       null|    3957|\n",
      "|1000005|P00031342|     M|26-35|        20|           A|            1|            1|          8|        999|       null|    6073|\n",
      "|1000005|P00145042|     M|26-35|        20|           A|            1|            1|          1|          2|          5|   15665|\n",
      "|1000006|P00231342|     F|51-55|         9|           A|            1|            0|          5|          8|         14|    5378|\n",
      "|1000006|P00190242|     F|51-55|         9|           A|            1|            0|          4|          5|       null|    2079|\n",
      "|1000006| P0096642|     F|51-55|         9|           A|            1|            0|          2|          3|          4|   13055|\n",
      "|1000006|P00058442|     F|51-55|         9|           A|            1|            0|          5|         14|       null|    8851|\n",
      "|1000007|P00036842|     M|36-45|         1|           B|            1|            1|          1|         14|         16|   11788|\n",
      "|1000008|P00249542|     M|26-35|        12|           C|           4+|            1|          1|          5|         15|   19614|\n",
      "+-------+---------+------+-----+----------+------------+-------------+-------------+-----------+-----------+-----------+--------+\n",
      "only showing top 20 rows\n",
      "\n"
     ]
    }
   ],
   "source": [
    "# Fill null values in productCat2 and productCat3\n",
    "\n",
    "blackfriday.na.fill(999, [\"productCat2\"]).show()"
   ]
  },
  {
   "cell_type": "code",
   "execution_count": 16,
   "metadata": {},
   "outputs": [
    {
     "data": {
      "text/html": [
       "<div>\n",
       "<style scoped>\n",
       "    .dataframe tbody tr th:only-of-type {\n",
       "        vertical-align: middle;\n",
       "    }\n",
       "\n",
       "    .dataframe tbody tr th {\n",
       "        vertical-align: top;\n",
       "    }\n",
       "\n",
       "    .dataframe thead th {\n",
       "        text-align: right;\n",
       "    }\n",
       "</style>\n",
       "<table border=\"1\" class=\"dataframe\">\n",
       "  <thead>\n",
       "    <tr style=\"text-align: right;\">\n",
       "      <th></th>\n",
       "      <th>userId</th>\n",
       "      <th>productId</th>\n",
       "      <th>gender</th>\n",
       "      <th>age</th>\n",
       "      <th>occupation</th>\n",
       "      <th>cityCategory</th>\n",
       "      <th>stayCityYears</th>\n",
       "      <th>maritalStatus</th>\n",
       "      <th>productCat1</th>\n",
       "      <th>productCat2</th>\n",
       "      <th>productCat3</th>\n",
       "      <th>purchase</th>\n",
       "    </tr>\n",
       "  </thead>\n",
       "  <tbody>\n",
       "    <tr>\n",
       "      <th>0</th>\n",
       "      <td>1000001</td>\n",
       "      <td>P00069042</td>\n",
       "      <td>F</td>\n",
       "      <td>0-17</td>\n",
       "      <td>10</td>\n",
       "      <td>A</td>\n",
       "      <td>2</td>\n",
       "      <td>0</td>\n",
       "      <td>3</td>\n",
       "      <td>NaN</td>\n",
       "      <td>NaN</td>\n",
       "      <td>8370</td>\n",
       "    </tr>\n",
       "    <tr>\n",
       "      <th>1</th>\n",
       "      <td>1000001</td>\n",
       "      <td>P00248942</td>\n",
       "      <td>F</td>\n",
       "      <td>0-17</td>\n",
       "      <td>10</td>\n",
       "      <td>A</td>\n",
       "      <td>2</td>\n",
       "      <td>0</td>\n",
       "      <td>1</td>\n",
       "      <td>6.0</td>\n",
       "      <td>14.0</td>\n",
       "      <td>15200</td>\n",
       "    </tr>\n",
       "    <tr>\n",
       "      <th>2</th>\n",
       "      <td>1000001</td>\n",
       "      <td>P00087842</td>\n",
       "      <td>F</td>\n",
       "      <td>0-17</td>\n",
       "      <td>10</td>\n",
       "      <td>A</td>\n",
       "      <td>2</td>\n",
       "      <td>0</td>\n",
       "      <td>12</td>\n",
       "      <td>NaN</td>\n",
       "      <td>NaN</td>\n",
       "      <td>1422</td>\n",
       "    </tr>\n",
       "    <tr>\n",
       "      <th>3</th>\n",
       "      <td>1000001</td>\n",
       "      <td>P00085442</td>\n",
       "      <td>F</td>\n",
       "      <td>0-17</td>\n",
       "      <td>10</td>\n",
       "      <td>A</td>\n",
       "      <td>2</td>\n",
       "      <td>0</td>\n",
       "      <td>12</td>\n",
       "      <td>14.0</td>\n",
       "      <td>NaN</td>\n",
       "      <td>1057</td>\n",
       "    </tr>\n",
       "    <tr>\n",
       "      <th>4</th>\n",
       "      <td>1000002</td>\n",
       "      <td>P00285442</td>\n",
       "      <td>M</td>\n",
       "      <td>55+</td>\n",
       "      <td>16</td>\n",
       "      <td>C</td>\n",
       "      <td>4+</td>\n",
       "      <td>0</td>\n",
       "      <td>8</td>\n",
       "      <td>NaN</td>\n",
       "      <td>NaN</td>\n",
       "      <td>7969</td>\n",
       "    </tr>\n",
       "  </tbody>\n",
       "</table>\n",
       "</div>"
      ],
      "text/plain": [
       "    userId  productId gender   age  occupation cityCategory stayCityYears  \\\n",
       "0  1000001  P00069042      F  0-17          10            A             2   \n",
       "1  1000001  P00248942      F  0-17          10            A             2   \n",
       "2  1000001  P00087842      F  0-17          10            A             2   \n",
       "3  1000001  P00085442      F  0-17          10            A             2   \n",
       "4  1000002  P00285442      M   55+          16            C            4+   \n",
       "\n",
       "   maritalStatus  productCat1  productCat2  productCat3  purchase  \n",
       "0              0            3          NaN          NaN      8370  \n",
       "1              0            1          6.0         14.0     15200  \n",
       "2              0           12          NaN          NaN      1422  \n",
       "3              0           12         14.0          NaN      1057  \n",
       "4              0            8          NaN          NaN      7969  "
      ]
     },
     "execution_count": 16,
     "metadata": {},
     "output_type": "execute_result"
    }
   ],
   "source": [
    "# Transform spark dataframe to pandas dataframe:\n",
    "\n",
    "x = blackfriday.toPandas()\n",
    "x.head()"
   ]
  },
  {
   "cell_type": "code",
   "execution_count": 17,
   "metadata": {},
   "outputs": [
    {
     "name": "stdout",
     "output_type": "stream",
     "text": [
      "+------------+-----+\n",
      "|cityCategory|count|\n",
      "+------------+-----+\n",
      "|           B|42347|\n",
      "|           C|31071|\n",
      "|           A|27469|\n",
      "+------------+-----+\n",
      "\n"
     ]
    }
   ],
   "source": [
    "# Show a value count of levels of column 'cityCategory':\n",
    "\n",
    "blackfriday.groupBy(\"cityCategory\").count().show()"
   ]
  },
  {
   "cell_type": "code",
   "execution_count": 18,
   "metadata": {},
   "outputs": [],
   "source": [
    "# Perform a stratified sampling of data.\n",
    "# Stratified sampling be by column: 'cityCategory'\n",
    "# Take 80% from 'B' and 20% from 'C'\n",
    "\n",
    "sample = blackfriday.sampleBy(\n",
    "                      \"cityCategory\",      # column that defines strata\n",
    "                      fractions = {'B' : 0.8, 'C' : 0.2})   # sampling fraction for each stratum"
   ]
  },
  {
   "cell_type": "markdown",
   "metadata": {},
   "source": [
    "## Using verbs\n",
    "select, <i>select(x).where()</i>, <i>select().distinct()</i>, filter, groupby"
   ]
  },
  {
   "cell_type": "markdown",
   "metadata": {},
   "source": [
    "### select syntax\n",
    "> DataFrame.select(\\*cols)<br>\n",
    "> cols: column names (string) or expressions (Column). If one of the column names is ‘*’, that column is expanded to include all columns in the current DataFrame.\n"
   ]
  },
  {
   "cell_type": "code",
   "execution_count": null,
   "metadata": {},
   "outputs": [],
   "source": [
    "# Show columns 3rd till 5th\n",
    "\n"
   ]
  },
  {
   "cell_type": "markdown",
   "metadata": {},
   "source": [
    "### filter syntax\n",
    ">DataFrame.filter(condition)<br>\n",
    ">condition: <i>columnObject > 34</i> or string format: <i>\"age > 34 AND balance < 60\"</i>\n",
    ">>  df.age > 3 --same as-- col(\"age\") > 3<br>\n",
    ">>  \"age > 3\" <br>\n",
    ">>Logical Operators<br>\n",
    ">>> If string: AND OR NOT<br>\n",
    ">>> If columnObject: &, |, ~ <br>"
   ]
  },
  {
   "cell_type": "code",
   "execution_count": 33,
   "metadata": {},
   "outputs": [
    {
     "data": {
      "text/plain": [
       "DataFrame[userId: int, productId: string, gender: string, age: string, occupation: int, cityCategory: string, stayCityYears: string, maritalStatus: int, productCat1: int, productCat2: int, productCat3: int, purchase: int]"
      ]
     },
     "execution_count": 33,
     "metadata": {},
     "output_type": "execute_result"
    },
    {
     "data": {
      "text/plain": [
       "DataFrame[userId: int, productId: string, gender: string, age: string, occupation: int, cityCategory: string, stayCityYears: string, maritalStatus: int, productCat1: int, productCat2: int, productCat3: int, purchase: int]"
      ]
     },
     "execution_count": 33,
     "metadata": {},
     "output_type": "execute_result"
    },
    {
     "data": {
      "text/plain": [
       "DataFrame[userId: int, productId: string, gender: string, age: string, occupation: int, cityCategory: string, stayCityYears: string, maritalStatus: int, productCat1: int, productCat2: int, productCat3: int, purchase: int]"
      ]
     },
     "execution_count": 33,
     "metadata": {},
     "output_type": "execute_result"
    }
   ],
   "source": [
    "# Filter purchases less than 9000\n",
    "\n",
    "blackfriday.filter(\"purchase < 9000\")\n",
    "blackfriday.where(\"purchase < 9000\")\n",
    "blackfriday.filter(col('purchase') < 9000)"
   ]
  },
  {
   "cell_type": "code",
   "execution_count": 46,
   "metadata": {},
   "outputs": [
    {
     "data": {
      "text/plain": [
       "35936"
      ]
     },
     "execution_count": 46,
     "metadata": {},
     "output_type": "execute_result"
    },
    {
     "data": {
      "text/plain": [
       "35936"
      ]
     },
     "execution_count": 46,
     "metadata": {},
     "output_type": "execute_result"
    },
    {
     "data": {
      "text/plain": [
       "100887"
      ]
     },
     "execution_count": 46,
     "metadata": {},
     "output_type": "execute_result"
    },
    {
     "data": {
      "text/plain": [
       "35936"
      ]
     },
     "execution_count": 46,
     "metadata": {},
     "output_type": "execute_result"
    }
   ],
   "source": [
    "# Filter purchases less than 9000 and maritalStatus is 0\n",
    "\n",
    "blackfriday.filter('purchase < 9000').filter('maritalStatus = 0').count()\n",
    "blackfriday.filter('purchase < 9000').filter('maritalStatus == 0').count()\n",
    "blackfriday.filter('purchase < 9000 AND maritalStatus == 0').count()\n",
    "blackfriday.filter((col('purchase') < 9000) & (col('maritalStatus') == 0)).count()"
   ]
  },
  {
   "cell_type": "code",
   "execution_count": 47,
   "metadata": {},
   "outputs": [
    {
     "data": {
      "text/plain": [
       "84313"
      ]
     },
     "execution_count": 47,
     "metadata": {},
     "output_type": "execute_result"
    },
    {
     "data": {
      "text/plain": [
       "84313"
      ]
     },
     "execution_count": 47,
     "metadata": {},
     "output_type": "execute_result"
    }
   ],
   "source": [
    "# Filter purchases less than 9000 or maritalStatus is 0\n",
    "\n",
    "blackfriday.filter('purchase < 9000 OR maritalStatus == 0').count()\n",
    "blackfriday.filter((col('purchase') < 9000) | (col('maritalStatus') == 0)).count()"
   ]
  },
  {
   "cell_type": "markdown",
   "metadata": {},
   "source": [
    "## Aggregation with groupby\n",
    "Use: <i>.agg({'colName1' : 'mean', 'colName2' : 'sum'})</i> <br>\n",
    ">1. With <i>agg()</i> if you are using dictionary one can then use only builtin functions and not any other <i>pyspark.sql.function</i>.<br>\n",
    "Some common functions are: <i>mean, avg, sum, count, first, last,stddev </i>. There is no need to import builtin function in advance.<br>\n",
    "For a complete list of builtin functions see [here](https://sparkbyexamples.com/pyspark/pyspark-aggregate-functions/).<br>\n",
    "2. You can also use a pyspark.sql.function, as: .agg(sum(df.age), min(col(\"purchase\")) )<br> \n"
   ]
  },
  {
   "cell_type": "markdown",
   "metadata": {},
   "source": [
    "#### First on the whole dataset"
   ]
  },
  {
   "cell_type": "code",
   "execution_count": 31,
   "metadata": {},
   "outputs": [
    {
     "name": "stdout",
     "output_type": "stream",
     "text": [
      "+-------------+--------+\n",
      "|min(purchase)|max(age)|\n",
      "+-------------+--------+\n",
      "|          185|     55+|\n",
      "+-------------+--------+\n",
      "\n"
     ]
    }
   ],
   "source": [
    "# Find the max of 'age' column and 'min' of purchase column\n",
    "blackfriday.agg({'age' : 'max', 'purchase' : 'min' }).show()"
   ]
  },
  {
   "cell_type": "code",
   "execution_count": 26,
   "metadata": {},
   "outputs": [
    {
     "name": "stdout",
     "output_type": "stream",
     "text": [
      "+-------------+-------------+\n",
      "|max(purchase)|min(purchase)|\n",
      "+-------------+-------------+\n",
      "|        23961|          185|\n",
      "+-------------+-------------+\n",
      "\n"
     ]
    }
   ],
   "source": [
    "# Find max and min of purchase\n",
    "blackfriday.agg(max(blackfriday.purchase), min(col(\"purchase\"))).show()\n"
   ]
  },
  {
   "cell_type": "markdown",
   "metadata": {},
   "source": [
    "### Next on a subset grouped by column\n",
    "Questions:\n",
    ">1. How many airports are there timezone-wise ('tz')\n",
    "2. What is the mean latitude (lat), timezone-wise\n"
   ]
  },
  {
   "cell_type": "code",
   "execution_count": 36,
   "metadata": {},
   "outputs": [
    {
     "name": "stdout",
     "output_type": "stream",
     "text": [
      "+-------+---------+------+-----+----------+------------+-------------+-------------+-----------+-----------+-----------+--------+\n",
      "| userId|productId|gender|  age|occupation|cityCategory|stayCityYears|maritalStatus|productCat1|productCat2|productCat3|purchase|\n",
      "+-------+---------+------+-----+----------+------------+-------------+-------------+-----------+-----------+-----------+--------+\n",
      "|1000001|P00069042|     F| 0-17|        10|           A|            2|            0|          3|       null|       null|    8370|\n",
      "|1000001|P00248942|     F| 0-17|        10|           A|            2|            0|          1|          6|         14|   15200|\n",
      "|1000001|P00087842|     F| 0-17|        10|           A|            2|            0|         12|       null|       null|    1422|\n",
      "|1000001|P00085442|     F| 0-17|        10|           A|            2|            0|         12|         14|       null|    1057|\n",
      "|1000002|P00285442|     M|  55+|        16|           C|           4+|            0|          8|       null|       null|    7969|\n",
      "|1000003|P00193542|     M|26-35|        15|           A|            3|            0|          1|          2|       null|   15227|\n",
      "|1000004|P00184942|     M|46-50|         7|           B|            2|            1|          1|          8|         17|   19215|\n",
      "|1000004|P00346142|     M|46-50|         7|           B|            2|            1|          1|         15|       null|   15854|\n",
      "|1000004| P0097242|     M|46-50|         7|           B|            2|            1|          1|         16|       null|   15686|\n",
      "|1000005|P00274942|     M|26-35|        20|           A|            1|            1|          8|       null|       null|    7871|\n",
      "|1000005|P00251242|     M|26-35|        20|           A|            1|            1|          5|         11|       null|    5254|\n",
      "|1000005|P00014542|     M|26-35|        20|           A|            1|            1|          8|       null|       null|    3957|\n",
      "|1000005|P00031342|     M|26-35|        20|           A|            1|            1|          8|       null|       null|    6073|\n",
      "|1000005|P00145042|     M|26-35|        20|           A|            1|            1|          1|          2|          5|   15665|\n",
      "|1000006|P00231342|     F|51-55|         9|           A|            1|            0|          5|          8|         14|    5378|\n",
      "|1000006|P00190242|     F|51-55|         9|           A|            1|            0|          4|          5|       null|    2079|\n",
      "|1000006| P0096642|     F|51-55|         9|           A|            1|            0|          2|          3|          4|   13055|\n",
      "|1000006|P00058442|     F|51-55|         9|           A|            1|            0|          5|         14|       null|    8851|\n",
      "|1000007|P00036842|     M|36-45|         1|           B|            1|            1|          1|         14|         16|   11788|\n",
      "|1000008|P00249542|     M|26-35|        12|           C|           4+|            1|          1|          5|         15|   19614|\n",
      "+-------+---------+------+-----+----------+------------+-------------+-------------+-----------+-----------+-----------+--------+\n",
      "only showing top 20 rows\n",
      "\n"
     ]
    }
   ],
   "source": [
    "blackfriday.show()"
   ]
  },
  {
   "cell_type": "code",
   "execution_count": 47,
   "metadata": {},
   "outputs": [
    {
     "data": {
      "text/plain": [
       "DataFrame[userId: int, avg(purchase): double]"
      ]
     },
     "execution_count": 47,
     "metadata": {},
     "output_type": "execute_result"
    },
    {
     "data": {
      "text/plain": [
       "DataFrame[userId: int, avg(purchase): double]"
      ]
     },
     "execution_count": 47,
     "metadata": {},
     "output_type": "execute_result"
    },
    {
     "data": {
      "text/plain": [
       "DataFrame[cityCategory: string, maritalStatus: int, avg(age): double]"
      ]
     },
     "execution_count": 47,
     "metadata": {},
     "output_type": "execute_result"
    }
   ],
   "source": [
    "# 12.Get userID wise average purchases\n",
    "#    Get productID wise std deviation in purchases\n",
    "#    Get cityCategory and maritalStatus wise average age and avg purchase\n",
    "\n",
    "from pyspark.sql.functions import avg, expr\n",
    "blackfriday.groupby('userId').agg({'purchase': 'mean'})\n",
    "blackfriday.groupby('userId').agg(avg(col(\"purchase\")))\n",
    "blackfriday.groupby(['cityCategory', 'maritalStatus']).agg(avg(col(\"age\")))\n",
    "\n"
   ]
  },
  {
   "cell_type": "code",
   "execution_count": null,
   "metadata": {},
   "outputs": [],
   "source": [
    "# 7.2 To call multiple aggregation functions at once, pass a dictionary.\n",
    "#         The 'key' of dictionary becomes argument to 'value'.\n",
    "#                             count(*)        avg(lat)      sum(lon)\n",
    "\n",
    "grObject.agg({'*': 'count', 'lat': 'avg', 'lon':'sum'}).show(2)"
   ]
  },
  {
   "cell_type": "markdown",
   "metadata": {},
   "source": [
    "## Column manipulation"
   ]
  },
  {
   "cell_type": "code",
   "execution_count": 54,
   "metadata": {},
   "outputs": [
    {
     "name": "stdout",
     "output_type": "stream",
     "text": [
      "+-------+---------+------+----+----------+------------+-------------+-------------+-----------+-----------+-----------+--------+-------+\n",
      "| userId|productId|gender| age|occupation|cityCategory|stayCityYears|maritalStatus|productCat1|productCat2|productCat3|purchase|    new|\n",
      "+-------+---------+------+----+----------+------------+-------------+-------------+-----------+-----------+-----------+--------+-------+\n",
      "|1000001|P00069042|     F|0-17|        10|           A|            2|            0|          3|       null|       null|    8370|16740.0|\n",
      "|1000001|P00248942|     F|0-17|        10|           A|            2|            0|          1|          6|         14|   15200|30400.0|\n",
      "|1000001|P00087842|     F|0-17|        10|           A|            2|            0|         12|       null|       null|    1422| 2844.0|\n",
      "+-------+---------+------+----+----------+------------+-------------+-------------+-----------+-----------+-----------+--------+-------+\n",
      "only showing top 3 rows\n",
      "\n",
      "+-------+---------+------+----+----------+------------+-------------+-------------+-----------+-----------+-----------+--------+-------+\n",
      "| userId|productId|gender| age|occupation|cityCategory|stayCityYears|maritalStatus|productCat1|productCat2|productCat3|purchase|    new|\n",
      "+-------+---------+------+----+----------+------------+-------------+-------------+-----------+-----------+-----------+--------+-------+\n",
      "|1000001|P00069042|     F|0-17|        10|           A|            2|            0|          3|       null|       null|    8370|16740.0|\n",
      "|1000001|P00248942|     F|0-17|        10|           A|            2|            0|          1|          6|         14|   15200|30400.0|\n",
      "|1000001|P00087842|     F|0-17|        10|           A|            2|            0|         12|       null|       null|    1422| 2844.0|\n",
      "+-------+---------+------+----+----------+------------+-------------+-------------+-----------+-----------+-----------+--------+-------+\n",
      "only showing top 3 rows\n",
      "\n"
     ]
    }
   ],
   "source": [
    "# 8. Create new columns in Spark using .withColumn() --mutate\n",
    "#      New column: pa . \n",
    "#      Product of two columns:  'age' and  'purchase' \n",
    "\n",
    "blackfriday.withColumn('new', expr(\"stayCityYears * purchase\")).show(3)\n",
    "blackfriday.withColumn('new', blackfriday.stayCityYears * blackfriday.purchase).show(3)\n"
   ]
  },
  {
   "cell_type": "code",
   "execution_count": 56,
   "metadata": {},
   "outputs": [
    {
     "data": {
      "text/plain": [
       "DataFrame[userId: int, productId: string, gender: string, age_cat: string, occupation: int, cityCategory: string, stayCityYears: string, maritalStatus: int, productCat1: int, productCat2: int, productCat3: int, purchase: int]"
      ]
     },
     "execution_count": 56,
     "metadata": {},
     "output_type": "execute_result"
    }
   ],
   "source": [
    "# Change the name of age colymn to age_cat\n",
    "\n",
    "blackfriday.withColumnRenamed('age', 'age_cat')"
   ]
  },
  {
   "cell_type": "markdown",
   "metadata": {},
   "source": [
    "## SQL queries against DataFrame"
   ]
  },
  {
   "cell_type": "code",
   "execution_count": 57,
   "metadata": {},
   "outputs": [],
   "source": [
    "blackfriday.createTempView('abc')"
   ]
  },
  {
   "cell_type": "code",
   "execution_count": 73,
   "metadata": {},
   "outputs": [
    {
     "name": "stdout",
     "output_type": "stream",
     "text": [
      "+-------+---------+------+----+----------+------------+-------------+-------------+-----------+-----------+-----------+--------+\n",
      "| userId|productId|gender| age|occupation|cityCategory|stayCityYears|maritalStatus|productCat1|productCat2|productCat3|purchase|\n",
      "+-------+---------+------+----+----------+------------+-------------+-------------+-----------+-----------+-----------+--------+\n",
      "|1000001|P00069042|     F|0-17|        10|           A|            2|            0|          3|       null|       null|    8370|\n",
      "|1000001|P00248942|     F|0-17|        10|           A|            2|            0|          1|          6|         14|   15200|\n",
      "|1000001|P00087842|     F|0-17|        10|           A|            2|            0|         12|       null|       null|    1422|\n",
      "+-------+---------+------+----+----------+------------+-------------+-------------+-----------+-----------+-----------+--------+\n",
      "only showing top 3 rows\n",
      "\n",
      "+-------+---------+------+-----+----------+------------+-------------+-------------+-----------+-----------+-----------+--------+\n",
      "| userId|productId|gender|  age|occupation|cityCategory|stayCityYears|maritalStatus|productCat1|productCat2|productCat3|purchase|\n",
      "+-------+---------+------+-----+----------+------------+-------------+-------------+-----------+-----------+-----------+--------+\n",
      "|1000002|P00285442|     M|  55+|        16|           C|           4+|            0|          8|       null|       null|    7969|\n",
      "|1000003|P00193542|     M|26-35|        15|           A|            3|            0|          1|          2|       null|   15227|\n",
      "|1000005|P00274942|     M|26-35|        20|           A|            1|            1|          8|       null|       null|    7871|\n",
      "+-------+---------+------+-----+----------+------------+-------------+-------------+-----------+-----------+-----------+--------+\n",
      "only showing top 3 rows\n",
      "\n",
      "+-------+---------+------+-----+----------+------------+-------------+-------------+-----------+-----------+-----------+--------+\n",
      "| userId|productId|gender|  age|occupation|cityCategory|stayCityYears|maritalStatus|productCat1|productCat2|productCat3|purchase|\n",
      "+-------+---------+------+-----+----------+------------+-------------+-------------+-----------+-----------+-----------+--------+\n",
      "|1000002|P00285442|     M|  55+|        16|           C|           4+|            0|          8|       null|       null|    7969|\n",
      "|1000005|P00274942|     M|26-35|        20|           A|            1|            1|          8|       null|       null|    7871|\n",
      "|1000005|P00014542|     M|26-35|        20|           A|            1|            1|          8|       null|       null|    3957|\n",
      "+-------+---------+------+-----+----------+------------+-------------+-------------+-----------+-----------+-----------+--------+\n",
      "only showing top 3 rows\n",
      "\n",
      "+-------+---------+------+-----+----------+------------+-------------+-------------+-----------+-----------+-----------+--------+\n",
      "| userId|productId|gender|  age|occupation|cityCategory|stayCityYears|maritalStatus|productCat1|productCat2|productCat3|purchase|\n",
      "+-------+---------+------+-----+----------+------------+-------------+-------------+-----------+-----------+-----------+--------+\n",
      "|1004286|P00356642|     M|36-45|        17|           C|            0|            0|          8|         17|       null|    1941|\n",
      "|1001739|P00358242|     M|  55+|        16|           C|            1|            1|          8|       null|       null|    1942|\n",
      "|1001794|P00254542|     M|26-35|        11|           B|            1|            0|          8|         13|       null|    1942|\n",
      "+-------+---------+------+-----+----------+------------+-------------+-------------+-----------+-----------+-----------+--------+\n",
      "only showing top 3 rows\n",
      "\n",
      "+-------+---------+------+-----+----------+------------+-------------+-------------+-----------+-----------+-----------+--------+\n",
      "| userId|productId|gender|  age|occupation|cityCategory|stayCityYears|maritalStatus|productCat1|productCat2|productCat3|purchase|\n",
      "+-------+---------+------+-----+----------+------------+-------------+-------------+-----------+-----------+-----------+--------+\n",
      "|1002736|P00288542|     M|46-50|        12|           C|           4+|            0|          8|       null|       null|   10082|\n",
      "|1001693|P00111942|     M|26-35|        12|           C|            1|            1|          8|         17|       null|   10082|\n",
      "|1004277|P00049542|     M|36-45|        16|           A|            0|            0|          8|       null|       null|   10081|\n",
      "+-------+---------+------+-----+----------+------------+-------------+-------------+-----------+-----------+-----------+--------+\n",
      "only showing top 3 rows\n",
      "\n"
     ]
    }
   ],
   "source": [
    "spark.sql('select * from abc').show(3)\n",
    "spark.sql('select * from abc where occupation > 10').show(3)\n",
    "spark.sql('select * from abc where occupation > 10 AND productCat1 == 8').show(3)\n",
    "spark.sql('select * from abc where occupation > 10 AND productCat1 == 8 order by purchase').show(3)\n",
    "spark.sql('select * from abc where occupation > 10 AND productCat1 == 8 order by purchase desc').show(3)"
   ]
  },
  {
   "cell_type": "code",
   "execution_count": null,
   "metadata": {},
   "outputs": [],
   "source": [
    "# 11. Many of the operations can be accessed by writing SQL queries in spark.sql().\n",
    "# To make an existing Spark dataframe usable for spark.sql(), one needs to\n",
    "#   register said dataframe as a temporary table.\n",
    "\n",
    "# 11.1 As an example, we can register the two dataframes as temp tables then\n",
    "#      join them through spark.sql().\n",
    "\n",
    "airports_df.createOrReplaceTempView('dfa_temp')\n",
    "weather_df.createOrReplaceTempView('dfw_temp')"
   ]
  },
  {
   "cell_type": "code",
   "execution_count": null,
   "metadata": {},
   "outputs": [],
   "source": [
    "# 11.2 Simple SQL query. SQLContext is no longer needed. 'spark'\n",
    "#            session object can be used.\n",
    "\n",
    "dfj = spark.sql('select * from dfa_temp' )\n",
    "dfj.show(3)"
   ]
  },
  {
   "cell_type": "code",
   "execution_count": null,
   "metadata": {},
   "outputs": [],
   "source": [
    "# 11.3 Now the SQL join\n",
    "\n",
    "dfj = spark.sql('select * from dfa_temp a, dfw_temp b where a.faa = b.origin' )\n",
    "dfj.show(3)\n"
   ]
  },
  {
   "cell_type": "markdown",
   "metadata": {},
   "source": [
    "## Misc"
   ]
  },
  {
   "cell_type": "code",
   "execution_count": 77,
   "metadata": {},
   "outputs": [
    {
     "data": {
      "text/plain": [
       "DataFrame[userId: int, productId: string, gender: string, occupation: int, cityCategory: string, stayCityYears: string, maritalStatus: int, productCat1: int, productCat2: int, productCat3: int, purchase: int]"
      ]
     },
     "execution_count": 77,
     "metadata": {},
     "output_type": "execute_result"
    },
    {
     "data": {
      "text/plain": [
       "DataFrame[userId: int, productId: string, gender: string, occupation: int, cityCategory: string, stayCityYears: string, maritalStatus: int, productCat1: int, productCat2: int, productCat3: int]"
      ]
     },
     "execution_count": 77,
     "metadata": {},
     "output_type": "execute_result"
    }
   ],
   "source": [
    "blackfriday.drop('age')\n",
    "blackfriday.drop('age', 'purchase')"
   ]
  },
  {
   "cell_type": "code",
   "execution_count": null,
   "metadata": {},
   "outputs": [],
   "source": [
    "# 12. Drop a columns\n",
    "\n",
    "airports_df.drop('name').show(3)\n",
    "\n",
    "# 12.1  Or drop multiple columns\n",
    "\n",
    "columns_to_drop = ['name', 'lat']\n",
    "xx =airports_df.drop(*columns_to_drop)\n",
    "xx.show(3)"
   ]
  },
  {
   "cell_type": "code",
   "execution_count": null,
   "metadata": {},
   "outputs": [],
   "source": [
    "########### I am done ####################"
   ]
  },
  {
   "cell_type": "code",
   "execution_count": null,
   "metadata": {},
   "outputs": [],
   "source": []
  }
 ],
 "metadata": {
  "kernelspec": {
   "display_name": "Python 3",
   "language": "python",
   "name": "python3"
  },
  "language_info": {
   "codemirror_mode": {
    "name": "ipython",
    "version": 3
   },
   "file_extension": ".py",
   "mimetype": "text/x-python",
   "name": "python",
   "nbconvert_exporter": "python",
   "pygments_lexer": "ipython3",
   "version": "3.8.8"
  }
 },
 "nbformat": 4,
 "nbformat_minor": 2
}
